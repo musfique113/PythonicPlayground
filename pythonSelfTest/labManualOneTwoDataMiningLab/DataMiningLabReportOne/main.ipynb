{
 "cells": [
  {
   "attachments": {},
   "cell_type": "markdown",
   "metadata": {},
   "source": [
    "1.Write a Python program which accepts the radius of a circle from the user and compute the area."
   ]
  },
  {
   "cell_type": "code",
   "execution_count": 1,
   "metadata": {},
   "outputs": [
    {
     "name": "stdout",
     "output_type": "stream",
     "text": [
      "Area of the circle is 1661.9064\n"
     ]
    }
   ],
   "source": [
    "# user input\n",
    "n = int(input(\"Enter radious of the circel: \"))\n",
    "Area = 3.1416 * (n*n)\n",
    "print(\"Area of the circle is\", Area)"
   ]
  },
  {
   "attachments": {},
   "cell_type": "markdown",
   "metadata": {},
   "source": [
    "2.Write a Python program to display the first and last colors from the following list. Go to the editor \n",
    "colorList == [\"Red\",\"Green\",\"White\" ,\"Black\"]"
   ]
  },
  {
   "cell_type": "code",
   "execution_count": 3,
   "metadata": {},
   "outputs": [
    {
     "name": "stdout",
     "output_type": "stream",
     "text": [
      "The first color in the list is: Red\n",
      "The last color in the list is: Black\n"
     ]
    }
   ],
   "source": [
    "colorList = [\"Red\",\"Green\",\"White\",\"Black\"]\n",
    "\n",
    "# Display the first color\n",
    "print(\"The first color in the list is:\", colorList[0])\n",
    "\n",
    "# Display the last color\n",
    "print(\"The last color in the list is:\", colorList[-1])"
   ]
  },
  {
   "attachments": {},
   "cell_type": "markdown",
   "metadata": {},
   "source": [
    "3.Write a Python program to find the largest among three numbers."
   ]
  },
  {
   "cell_type": "code",
   "execution_count": 5,
   "metadata": {},
   "outputs": [
    {
     "name": "stdout",
     "output_type": "stream",
     "text": [
      "Third ( 14 ) one is the gratest\n"
     ]
    }
   ],
   "source": [
    "n1 = int(input(\"Enter the first number: \"))\n",
    "n2 = int(input(\"Enter the second number: \"))\n",
    "n3 = int(input(\"Enter the third number: \"))\n",
    "\n",
    "if n1>n2 and n1 > n3:\n",
    "    print(\"First\",\"(\",n1,\")\", \"one is the largest\")\n",
    "elif n2 > n1 and n2 > n3:\n",
    "    print(\"Second\",\"(\",n2,\")\", \"one is the largest\")\n",
    "else:\n",
    "    print(\"Third\",\"(\",n3,\")\", \"one is the largest\")\n",
    "          "
   ]
  },
  {
   "attachments": {},
   "cell_type": "markdown",
   "metadata": {},
   "source": [
    "4. Write a Python program to Check Triangle is Valid or Not\n",
    "- Triangle inequality theorem."
   ]
  },
  {
   "cell_type": "code",
   "execution_count": 7,
   "metadata": {},
   "outputs": [
    {
     "name": "stdout",
     "output_type": "stream",
     "text": [
      "Invalid triangle\n"
     ]
    }
   ],
   "source": [
    "n1 = int(input(\"Enter the first length: \"))\n",
    "n2 = int(input(\"Enter the second length: \"))\n",
    "n3 = int(input(\"Enter the third length: \"))\n",
    "\n",
    "if n1 + n2 > n2 and n3 + n2 > n1 and n3 + n1 > n2:\n",
    "    print(\"Valid triangle\")\n",
    "else:\n",
    "    print(\"Invalid triangle\")"
   ]
  }
 ],
 "metadata": {
  "kernelspec": {
   "display_name": "Python 3",
   "language": "python",
   "name": "python3"
  },
  "language_info": {
   "codemirror_mode": {
    "name": "ipython",
    "version": 3
   },
   "file_extension": ".py",
   "mimetype": "text/x-python",
   "name": "python",
   "nbconvert_exporter": "python",
   "pygments_lexer": "ipython3",
   "version": "3.10.9"
  },
  "orig_nbformat": 4,
  "vscode": {
   "interpreter": {
    "hash": "370f1a6d0d72f872497157d0a55ec403fe1dd495d12c6c0fc8b896bce09f34ae"
   }
  }
 },
 "nbformat": 4,
 "nbformat_minor": 2
}
