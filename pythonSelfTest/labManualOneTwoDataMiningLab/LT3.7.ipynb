{
 "cells": [
  {
   "attachments": {},
   "cell_type": "markdown",
   "metadata": {},
   "source": [
    "### Finding the largest among three numbers:\n",
    "First, you'll need to prompt the user to enter three numbers.\n",
    "Then, you'll need to compare the numbers to determine which one is the largest.\n",
    "To do this, you can use a series of if statements to compare each pair of numbers.\n",
    "Start by comparing the first two numbers, then compare the result to the third number to find the largest.\n",
    "Finally, you can print out the largest number to the user."
   ]
  },
  {
   "cell_type": "code",
   "execution_count": null,
   "metadata": {},
   "outputs": [],
   "source": [
    "# basis method\n",
    "n1 = int(input('N1:'))\n",
    "n2 = int(input('N2:'))\n",
    "n3 = int(input('N3:'))\n",
    "if n1 > n2 and n1 > n3:\n",
    "    largest = n1\n",
    "elif n2 > n1 and n2 > n3:\n",
    "    largest = n2\n",
    "else:\n",
    "    largest = n3\n",
    "\n",
    "print(largest)\n"
   ]
  },
  {
   "cell_type": "code",
   "execution_count": 13,
   "metadata": {},
   "outputs": [
    {
     "ename": "ValueError",
     "evalue": "not enough values to unpack (expected 3, got 1)",
     "output_type": "error",
     "traceback": [
      "\u001b[1;31m---------------------------------------------------------------------------\u001b[0m",
      "\u001b[1;31mValueError\u001b[0m                                Traceback (most recent call last)",
      "Cell \u001b[1;32mIn[13], line 2\u001b[0m\n\u001b[0;32m      1\u001b[0m \u001b[39m# method2  split()\u001b[39;00m\n\u001b[1;32m----> 2\u001b[0m n1,n2,n3  \u001b[39m=\u001b[39m \u001b[39minput\u001b[39m(\u001b[39m\"\u001b[39m\u001b[39mEnter three number saparated with comma\u001b[39m\u001b[39m\"\u001b[39m)\u001b[39m.\u001b[39msplit(\u001b[39m'\u001b[39m\u001b[39m \u001b[39m\u001b[39m'\u001b[39m)\n\u001b[0;32m      3\u001b[0m n1 \u001b[39m=\u001b[39m \u001b[39mint\u001b[39m(n1)\n\u001b[0;32m      4\u001b[0m n2 \u001b[39m=\u001b[39m \u001b[39mint\u001b[39m(n2)\n",
      "\u001b[1;31mValueError\u001b[0m: not enough values to unpack (expected 3, got 1)"
     ]
    }
   ],
   "source": [
    "# method2  split()\n",
    "n1,n2,n3  = input(\"Enter three number saparated with comma\").split(',') #can put any thing to split two inputs\n",
    "n1 = int(n1)\n",
    "n2 = int(n2)\n",
    "n3 = int(n3)\n",
    "\n",
    "if n1 > n2 and n1 > n3:\n",
    "    la = n1\n",
    "elif n2 > n1 and n2 > n3:\n",
    "    la = n2\n",
    "else:\n",
    "    la = n3\n",
    "print(la)"
   ]
  },
  {
   "cell_type": "code",
   "execution_count": 2,
   "metadata": {},
   "outputs": [
    {
     "name": "stdout",
     "output_type": "stream",
     "text": [
      "45\n"
     ]
    }
   ],
   "source": [
    "def findLargest(arr):\n",
    "\tsecondLargest = 0\n",
    "\tlargest = min(arr)\n",
    "\n",
    "\tfor i in range(len(arr)):\n",
    "\t\tif arr[i] > largest:\n",
    "\t\t\tsecondLargest = largest\n",
    "\t\t\tlargest = arr[i]\n",
    "\t\telse:\n",
    "\t\t\tsecondLargest = max(secondLargest, arr[i])\n",
    "\n",
    "\t# Returning second largest element\n",
    "\treturn secondLargest\n",
    "\n",
    "\n",
    "# Calling above method over this array set\n",
    "print(findLargest([10, 20, 4, 45, 99]))\n"
   ]
  },
  {
   "cell_type": "code",
   "execution_count": 18,
   "metadata": {},
   "outputs": [
    {
     "ename": "ValueError",
     "evalue": "invalid literal for int() with base 10: '3,5,8,9,6,3'",
     "output_type": "error",
     "traceback": [
      "\u001b[1;31m---------------------------------------------------------------------------\u001b[0m",
      "\u001b[1;31mValueError\u001b[0m                                Traceback (most recent call last)",
      "Cell \u001b[1;32mIn[18], line 5\u001b[0m\n\u001b[0;32m      3\u001b[0m n \u001b[39m=\u001b[39m \u001b[39mint\u001b[39m(\u001b[39minput\u001b[39m(\u001b[39m\"\u001b[39m\u001b[39mEnter the number of values to compare: \u001b[39m\u001b[39m\"\u001b[39m))\n\u001b[0;32m      4\u001b[0m values_list  \u001b[39m=\u001b[39m \u001b[39minput\u001b[39m(\u001b[39mf\u001b[39m\u001b[39m\"\u001b[39m\u001b[39mEnter \u001b[39m\u001b[39m{\u001b[39;00mn\u001b[39m}\u001b[39;00m\u001b[39m values saparated with comma(,)\u001b[39m\u001b[39m\"\u001b[39m\u001b[39m.\u001b[39msplit(\u001b[39m'\u001b[39m\u001b[39m,\u001b[39m\u001b[39m'\u001b[39m))\n\u001b[1;32m----> 5\u001b[0m values_int \u001b[39m=\u001b[39m [\u001b[39mint\u001b[39m(values_list) \u001b[39mfor\u001b[39;00m value \u001b[39min\u001b[39;00m values_list]\n\u001b[0;32m      6\u001b[0m largest \u001b[39m=\u001b[39m \u001b[39mmax\u001b[39m(values_int)\n\u001b[0;32m      7\u001b[0m \u001b[39mprint\u001b[39m(\u001b[39m\"\u001b[39m\u001b[39mLargest value is:\u001b[39m\u001b[39m\"\u001b[39m,largest) \n",
      "Cell \u001b[1;32mIn[18], line 5\u001b[0m, in \u001b[0;36m<listcomp>\u001b[1;34m(.0)\u001b[0m\n\u001b[0;32m      3\u001b[0m n \u001b[39m=\u001b[39m \u001b[39mint\u001b[39m(\u001b[39minput\u001b[39m(\u001b[39m\"\u001b[39m\u001b[39mEnter the number of values to compare: \u001b[39m\u001b[39m\"\u001b[39m))\n\u001b[0;32m      4\u001b[0m values_list  \u001b[39m=\u001b[39m \u001b[39minput\u001b[39m(\u001b[39mf\u001b[39m\u001b[39m\"\u001b[39m\u001b[39mEnter \u001b[39m\u001b[39m{\u001b[39;00mn\u001b[39m}\u001b[39;00m\u001b[39m values saparated with comma(,)\u001b[39m\u001b[39m\"\u001b[39m\u001b[39m.\u001b[39msplit(\u001b[39m'\u001b[39m\u001b[39m,\u001b[39m\u001b[39m'\u001b[39m))\n\u001b[1;32m----> 5\u001b[0m values_int \u001b[39m=\u001b[39m [\u001b[39mint\u001b[39;49m(values_list) \u001b[39mfor\u001b[39;00m value \u001b[39min\u001b[39;00m values_list]\n\u001b[0;32m      6\u001b[0m largest \u001b[39m=\u001b[39m \u001b[39mmax\u001b[39m(values_int)\n\u001b[0;32m      7\u001b[0m \u001b[39mprint\u001b[39m(\u001b[39m\"\u001b[39m\u001b[39mLargest value is:\u001b[39m\u001b[39m\"\u001b[39m,largest) \n",
      "\u001b[1;31mValueError\u001b[0m: invalid literal for int() with base 10: '3,5,8,9,6,3'"
     ]
    }
   ],
   "source": [
    "# an example code snippet that prompts the user to enter the number of values they want to compare, and then accepts n values separated by spaces:\n",
    "\n",
    "n = int(input(\"Enter the number of values to compare: \"))\n",
    "values_list  = input(f\"Enter {n} values saparated with comma(,)\".split(','))\n",
    "values_int = [int(values_list) for value in values_list]\n",
    "largest = max(values_int)\n",
    "print(\"Largest value is:\",largest) "
   ]
  },
  {
   "cell_type": "code",
   "execution_count": 20,
   "metadata": {},
   "outputs": [
    {
     "name": "stdout",
     "output_type": "stream",
     "text": [
      "Fer is a red convertible worth $60000.00.\n",
      "Jump is a blue van worth $10000.00.\n"
     ]
    }
   ],
   "source": [
    "# Create two new vehicles called car1 and car2. Set car1 to be a red convertible worth $60,000.00 with a name of Fer, and car2 to be a blue van named Jump worth $10,000.00.\n",
    "\n",
    "# define the Vehicle class\n",
    "class Vehicle:\n",
    "    name = \"\"\n",
    "    kind = \"car\"\n",
    "    color = \"\"\n",
    "    value = 100.00\n",
    "    def description(self):\n",
    "        desc_str = \"%s is a %s %s worth $%.2f.\" % (self.name, self.color, self.kind, self.value)\n",
    "        return desc_str\n",
    "\n",
    "# your code goes here\n",
    "car1 = Vehicle()\n",
    "car1.name = \"Fer\"\n",
    "car1.color = \"red\"\n",
    "car1.kind = \"convertible\"\n",
    "car1.value = 60000.00\n",
    "\n",
    "car2 = Vehicle()\n",
    "car2.name = \"Jump\"\n",
    "car2.color = \"blue\"\n",
    "car2.kind = \"van\"\n",
    "car2.value = 10000.00\n",
    "\n",
    "# test code\n",
    "print(car1.description())\n",
    "print(car2.description())"
   ]
  },
  {
   "cell_type": "code",
   "execution_count": 1,
   "metadata": {},
   "outputs": [
    {
     "name": "stdout",
     "output_type": "stream",
     "text": [
      "1 x 1 = 1\n",
      "1 x 2 = 2\n",
      "1 x 3 = 3\n",
      "1 x 4 = 4\n",
      "1 x 5 = 5\n",
      "1 x 6 = 6\n",
      "1 x 7 = 7\n",
      "1 x 8 = 8\n",
      "1 x 9 = 9\n",
      "1 x 10 = 10\n",
      "\n",
      "2 x 1 = 2\n",
      "2 x 2 = 4\n",
      "2 x 3 = 6\n",
      "2 x 4 = 8\n",
      "2 x 5 = 10\n",
      "2 x 6 = 12\n",
      "2 x 7 = 14\n",
      "2 x 8 = 16\n",
      "2 x 9 = 18\n",
      "2 x 10 = 20\n",
      "\n",
      "3 x 1 = 3\n",
      "3 x 2 = 6\n",
      "3 x 3 = 9\n",
      "3 x 4 = 12\n",
      "3 x 5 = 15\n",
      "3 x 6 = 18\n",
      "3 x 7 = 21\n",
      "3 x 8 = 24\n",
      "3 x 9 = 27\n",
      "3 x 10 = 30\n",
      "\n",
      "4 x 1 = 4\n",
      "4 x 2 = 8\n",
      "4 x 3 = 12\n",
      "4 x 4 = 16\n",
      "4 x 5 = 20\n",
      "4 x 6 = 24\n",
      "4 x 7 = 28\n",
      "4 x 8 = 32\n",
      "4 x 9 = 36\n",
      "4 x 10 = 40\n",
      "\n",
      "5 x 1 = 5\n",
      "5 x 2 = 10\n",
      "5 x 3 = 15\n",
      "5 x 4 = 20\n",
      "5 x 5 = 25\n",
      "5 x 6 = 30\n",
      "5 x 7 = 35\n",
      "5 x 8 = 40\n",
      "5 x 9 = 45\n",
      "5 x 10 = 50\n",
      "\n",
      "6 x 1 = 6\n",
      "6 x 2 = 12\n",
      "6 x 3 = 18\n",
      "6 x 4 = 24\n",
      "6 x 5 = 30\n",
      "6 x 6 = 36\n",
      "6 x 7 = 42\n",
      "6 x 8 = 48\n",
      "6 x 9 = 54\n",
      "6 x 10 = 60\n",
      "\n",
      "7 x 1 = 7\n",
      "7 x 2 = 14\n",
      "7 x 3 = 21\n",
      "7 x 4 = 28\n",
      "7 x 5 = 35\n",
      "7 x 6 = 42\n",
      "7 x 7 = 49\n",
      "7 x 8 = 56\n",
      "7 x 9 = 63\n",
      "7 x 10 = 70\n",
      "\n",
      "8 x 1 = 8\n",
      "8 x 2 = 16\n",
      "8 x 3 = 24\n",
      "8 x 4 = 32\n",
      "8 x 5 = 40\n",
      "8 x 6 = 48\n",
      "8 x 7 = 56\n",
      "8 x 8 = 64\n",
      "8 x 9 = 72\n",
      "8 x 10 = 80\n",
      "\n",
      "9 x 1 = 9\n",
      "9 x 2 = 18\n",
      "9 x 3 = 27\n",
      "9 x 4 = 36\n",
      "9 x 5 = 45\n",
      "9 x 6 = 54\n",
      "9 x 7 = 63\n",
      "9 x 8 = 72\n",
      "9 x 9 = 81\n",
      "9 x 10 = 90\n",
      "\n",
      "10 x 1 = 10\n",
      "10 x 2 = 20\n",
      "10 x 3 = 30\n",
      "10 x 4 = 40\n",
      "10 x 5 = 50\n",
      "10 x 6 = 60\n",
      "10 x 7 = 70\n",
      "10 x 8 = 80\n",
      "10 x 9 = 90\n",
      "10 x 10 = 100\n",
      "\n",
      "*\n",
      "**\n",
      "***\n",
      "****\n",
      "*****\n",
      "******\n",
      "*******\n",
      "********\n",
      "*********\n",
      "**********\n"
     ]
    }
   ],
   "source": [
    "# Program to print the multiplication table of numbers from 1 to 10 using loops\n",
    "\n",
    "# Using a while loop\n",
    "num = 1\n",
    "while num <= 10:\n",
    "    # Using a for loop\n",
    "    for i in range(1, 11):\n",
    "        print(num, \"x\", i, \"=\", num*i)\n",
    "    num += 1\n",
    "    print()  # Adding an empty line for readability\n",
    "\n",
    "# Using a nested for loop\n",
    "for i in range(1, 11):\n",
    "    for j in range(1, i+1):\n",
    "        print(\"*\", end=\"\")\n",
    "    print()  # Adding an empty line for readability\n"
   ]
  },
  {
   "cell_type": "code",
   "execution_count": 19,
   "metadata": {},
   "outputs": [
    {
     "name": "stdout",
     "output_type": "stream",
     "text": [
      "More organized code is a benefit of functions!\n",
      "More readable code is a benefit of functions!\n",
      "Easier code reuse is a benefit of functions!\n",
      "Allowing programmers to share and connect code together is a benefit of functions!\n"
     ]
    }
   ],
   "source": [
    "# Modify this function to return a list of strings as defined above\n",
    "def list_benefits():\n",
    "    return \"More organized code\", \"More readable code\", \"Easier code reuse\", \"Allowing programmers to share and connect code together\"\n",
    "\n",
    "# Modify this function to concatenate to each benefit - \" is a benefit of functions!\"\n",
    "def build_sentence(benefit):\n",
    "    return \"%s is a benefit of functions!\" % benefit\n",
    "\n",
    "\n",
    "def name_the_benefits_of_functions():\n",
    "    list_of_benefits = list_benefits()\n",
    "    for benefit in list_of_benefits:\n",
    "        print(build_sentence(benefit))\n",
    "\n",
    "name_the_benefits_of_functions()"
   ]
  }
 ],
 "metadata": {
  "kernelspec": {
   "display_name": "Python 3",
   "language": "python",
   "name": "python3"
  },
  "language_info": {
   "codemirror_mode": {
    "name": "ipython",
    "version": 3
   },
   "file_extension": ".py",
   "mimetype": "text/x-python",
   "name": "python",
   "nbconvert_exporter": "python",
   "pygments_lexer": "ipython3",
   "version": "3.10.9"
  },
  "orig_nbformat": 4,
  "vscode": {
   "interpreter": {
    "hash": "370f1a6d0d72f872497157d0a55ec403fe1dd495d12c6c0fc8b896bce09f34ae"
   }
  }
 },
 "nbformat": 4,
 "nbformat_minor": 2
}
