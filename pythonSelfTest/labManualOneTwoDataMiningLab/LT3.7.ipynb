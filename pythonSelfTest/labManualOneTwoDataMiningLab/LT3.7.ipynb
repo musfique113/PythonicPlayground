{
 "cells": [
  {
   "attachments": {},
   "cell_type": "markdown",
   "metadata": {},
   "source": [
    "### Finding the largest among three numbers:\n",
    "First, you'll need to prompt the user to enter three numbers.\n",
    "Then, you'll need to compare the numbers to determine which one is the largest.\n",
    "To do this, you can use a series of if statements to compare each pair of numbers.\n",
    "Start by comparing the first two numbers, then compare the result to the third number to find the largest.\n",
    "Finally, you can print out the largest number to the user."
   ]
  },
  {
   "cell_type": "code",
   "execution_count": null,
   "metadata": {},
   "outputs": [],
   "source": [
    "# basis method\n",
    "n1 = int(input('N1:'))\n",
    "n2 = int(input('N2:'))\n",
    "n3 = int(input('N3:'))\n",
    "if n1 > n2 and n1 > n3:\n",
    "    largest = n1\n",
    "elif n2 > n1 and n2 > n3:\n",
    "    largest = n2\n",
    "else:\n",
    "    largest = n3\n",
    "\n",
    "print(largest)\n"
   ]
  },
  {
   "cell_type": "code",
   "execution_count": 13,
   "metadata": {},
   "outputs": [
    {
     "ename": "ValueError",
     "evalue": "not enough values to unpack (expected 3, got 1)",
     "output_type": "error",
     "traceback": [
      "\u001b[1;31m---------------------------------------------------------------------------\u001b[0m",
      "\u001b[1;31mValueError\u001b[0m                                Traceback (most recent call last)",
      "Cell \u001b[1;32mIn[13], line 2\u001b[0m\n\u001b[0;32m      1\u001b[0m \u001b[39m# method2  split()\u001b[39;00m\n\u001b[1;32m----> 2\u001b[0m n1,n2,n3  \u001b[39m=\u001b[39m \u001b[39minput\u001b[39m(\u001b[39m\"\u001b[39m\u001b[39mEnter three number saparated with comma\u001b[39m\u001b[39m\"\u001b[39m)\u001b[39m.\u001b[39msplit(\u001b[39m'\u001b[39m\u001b[39m \u001b[39m\u001b[39m'\u001b[39m)\n\u001b[0;32m      3\u001b[0m n1 \u001b[39m=\u001b[39m \u001b[39mint\u001b[39m(n1)\n\u001b[0;32m      4\u001b[0m n2 \u001b[39m=\u001b[39m \u001b[39mint\u001b[39m(n2)\n",
      "\u001b[1;31mValueError\u001b[0m: not enough values to unpack (expected 3, got 1)"
     ]
    }
   ],
   "source": [
    "# method2  split()\n",
    "n1,n2,n3  = input(\"Enter three number saparated with comma\").split(',') #can put any thing to split two inputs\n",
    "n1 = int(n1)\n",
    "n2 = int(n2)\n",
    "n3 = int(n3)\n",
    "\n",
    "if n1 > n2 and n1 > n3:\n",
    "    la = n1\n",
    "elif n2 > n1 and n2 > n3:\n",
    "    la = n2\n",
    "else:\n",
    "    la = n3\n",
    "print(la)"
   ]
  },
  {
   "cell_type": "code",
   "execution_count": 18,
   "metadata": {},
   "outputs": [
    {
     "ename": "ValueError",
     "evalue": "invalid literal for int() with base 10: '3,5,8,9,6,3'",
     "output_type": "error",
     "traceback": [
      "\u001b[1;31m---------------------------------------------------------------------------\u001b[0m",
      "\u001b[1;31mValueError\u001b[0m                                Traceback (most recent call last)",
      "Cell \u001b[1;32mIn[18], line 5\u001b[0m\n\u001b[0;32m      3\u001b[0m n \u001b[39m=\u001b[39m \u001b[39mint\u001b[39m(\u001b[39minput\u001b[39m(\u001b[39m\"\u001b[39m\u001b[39mEnter the number of values to compare: \u001b[39m\u001b[39m\"\u001b[39m))\n\u001b[0;32m      4\u001b[0m values_list  \u001b[39m=\u001b[39m \u001b[39minput\u001b[39m(\u001b[39mf\u001b[39m\u001b[39m\"\u001b[39m\u001b[39mEnter \u001b[39m\u001b[39m{\u001b[39;00mn\u001b[39m}\u001b[39;00m\u001b[39m values saparated with comma(,)\u001b[39m\u001b[39m\"\u001b[39m\u001b[39m.\u001b[39msplit(\u001b[39m'\u001b[39m\u001b[39m,\u001b[39m\u001b[39m'\u001b[39m))\n\u001b[1;32m----> 5\u001b[0m values_int \u001b[39m=\u001b[39m [\u001b[39mint\u001b[39m(values_list) \u001b[39mfor\u001b[39;00m value \u001b[39min\u001b[39;00m values_list]\n\u001b[0;32m      6\u001b[0m largest \u001b[39m=\u001b[39m \u001b[39mmax\u001b[39m(values_int)\n\u001b[0;32m      7\u001b[0m \u001b[39mprint\u001b[39m(\u001b[39m\"\u001b[39m\u001b[39mLargest value is:\u001b[39m\u001b[39m\"\u001b[39m,largest) \n",
      "Cell \u001b[1;32mIn[18], line 5\u001b[0m, in \u001b[0;36m<listcomp>\u001b[1;34m(.0)\u001b[0m\n\u001b[0;32m      3\u001b[0m n \u001b[39m=\u001b[39m \u001b[39mint\u001b[39m(\u001b[39minput\u001b[39m(\u001b[39m\"\u001b[39m\u001b[39mEnter the number of values to compare: \u001b[39m\u001b[39m\"\u001b[39m))\n\u001b[0;32m      4\u001b[0m values_list  \u001b[39m=\u001b[39m \u001b[39minput\u001b[39m(\u001b[39mf\u001b[39m\u001b[39m\"\u001b[39m\u001b[39mEnter \u001b[39m\u001b[39m{\u001b[39;00mn\u001b[39m}\u001b[39;00m\u001b[39m values saparated with comma(,)\u001b[39m\u001b[39m\"\u001b[39m\u001b[39m.\u001b[39msplit(\u001b[39m'\u001b[39m\u001b[39m,\u001b[39m\u001b[39m'\u001b[39m))\n\u001b[1;32m----> 5\u001b[0m values_int \u001b[39m=\u001b[39m [\u001b[39mint\u001b[39;49m(values_list) \u001b[39mfor\u001b[39;00m value \u001b[39min\u001b[39;00m values_list]\n\u001b[0;32m      6\u001b[0m largest \u001b[39m=\u001b[39m \u001b[39mmax\u001b[39m(values_int)\n\u001b[0;32m      7\u001b[0m \u001b[39mprint\u001b[39m(\u001b[39m\"\u001b[39m\u001b[39mLargest value is:\u001b[39m\u001b[39m\"\u001b[39m,largest) \n",
      "\u001b[1;31mValueError\u001b[0m: invalid literal for int() with base 10: '3,5,8,9,6,3'"
     ]
    }
   ],
   "source": [
    "# an example code snippet that prompts the user to enter the number of values they want to compare, and then accepts n values separated by spaces:\n",
    "\n",
    "n = int(input(\"Enter the number of values to compare: \"))\n",
    "values_list  = input(f\"Enter {n} values saparated with comma(,)\".split(','))\n",
    "values_int = [int(values_list) for value in values_list]\n",
    "largest = max(values_int)\n",
    "print(\"Largest value is:\",largest) "
   ]
  },
  {
   "cell_type": "code",
   "execution_count": 19,
   "metadata": {},
   "outputs": [
    {
     "name": "stdout",
     "output_type": "stream",
     "text": [
      "More organized code is a benefit of functions!\n",
      "More readable code is a benefit of functions!\n",
      "Easier code reuse is a benefit of functions!\n",
      "Allowing programmers to share and connect code together is a benefit of functions!\n"
     ]
    }
   ],
   "source": [
    "# Modify this function to return a list of strings as defined above\n",
    "def list_benefits():\n",
    "    return \"More organized code\", \"More readable code\", \"Easier code reuse\", \"Allowing programmers to share and connect code together\"\n",
    "\n",
    "# Modify this function to concatenate to each benefit - \" is a benefit of functions!\"\n",
    "def build_sentence(benefit):\n",
    "    return \"%s is a benefit of functions!\" % benefit\n",
    "\n",
    "\n",
    "def name_the_benefits_of_functions():\n",
    "    list_of_benefits = list_benefits()\n",
    "    for benefit in list_of_benefits:\n",
    "        print(build_sentence(benefit))\n",
    "\n",
    "name_the_benefits_of_functions()"
   ]
  }
 ],
 "metadata": {
  "kernelspec": {
   "display_name": "Python 3",
   "language": "python",
   "name": "python3"
  },
  "language_info": {
   "codemirror_mode": {
    "name": "ipython",
    "version": 3
   },
   "file_extension": ".py",
   "mimetype": "text/x-python",
   "name": "python",
   "nbconvert_exporter": "python",
   "pygments_lexer": "ipython3",
   "version": "3.10.9"
  },
  "orig_nbformat": 4,
  "vscode": {
   "interpreter": {
    "hash": "370f1a6d0d72f872497157d0a55ec403fe1dd495d12c6c0fc8b896bce09f34ae"
   }
  }
 },
 "nbformat": 4,
 "nbformat_minor": 2
}
