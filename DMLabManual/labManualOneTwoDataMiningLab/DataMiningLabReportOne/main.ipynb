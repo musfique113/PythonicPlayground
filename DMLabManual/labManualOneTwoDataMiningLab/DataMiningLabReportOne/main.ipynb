{
 "cells": [
  {
   "cell_type": "markdown",
   "metadata": {},
   "source": [
    "1.Write a Python program which accepts the radius of a circle from the user and compute the area."
   ]
  },
  {
   "cell_type": "code",
   "execution_count": 1,
   "metadata": {},
   "outputs": [
    {
     "name": "stdout",
     "output_type": "stream",
     "text": [
      "Area of the circle is 1661.9064\n"
     ]
    }
   ],
   "source": [
    "# user input\n",
    "n = int(input(\"Enter radious of the circel: \"))\n",
    "Area = 3.1416 * (n*n)\n",
    "print(\"Area of the circle is\", Area)"
   ]
  },
  {
   "cell_type": "markdown",
   "metadata": {},
   "source": [
    "2.Write a Python program to display the first and last colors from the following list. Go to the editor \n",
    "colorList == [\"Red\",\"Green\",\"White\" ,\"Black\"]"
   ]
  },
  {
   "cell_type": "code",
   "execution_count": 3,
   "metadata": {},
   "outputs": [
    {
     "name": "stdout",
     "output_type": "stream",
     "text": [
      "The first color in the list is: Red\n",
      "The last color in the list is: Black\n"
     ]
    }
   ],
   "source": [
    "colorList = [\"Red\",\"Green\",\"White\",\"Black\"]\n",
    "\n",
    "# Display the first color\n",
    "print(\"The first color in the list is:\", colorList[0])\n",
    "\n",
    "# Display the last color\n",
    "print(\"The last color in the list is:\", colorList[-1])"
   ]
  },
  {
   "cell_type": "markdown",
   "metadata": {},
   "source": [
    "3.Write a Python program to find the largest among three numbers."
   ]
  },
  {
   "cell_type": "code",
   "execution_count": 5,
   "metadata": {},
   "outputs": [
    {
     "name": "stdout",
     "output_type": "stream",
     "text": [
      "Third ( 14 ) one is the gratest\n"
     ]
    }
   ],
   "source": [
    "n1 = int(input(\"Enter the first number: \"))\n",
    "n2 = int(input(\"Enter the second number: \"))\n",
    "n3 = int(input(\"Enter the third number: \"))\n",
    "\n",
    "if n1>n2 and n1 > n3:\n",
    "    print(\"First\",\"(\",n1,\")\", \"one is the largest\")\n",
    "elif n2 > n1 and n2 > n3:\n",
    "    print(\"Second\",\"(\",n2,\")\", \"one is the largest\")\n",
    "else:\n",
    "    print(\"Third\",\"(\",n3,\")\", \"one is the largest\")\n",
    "          "
   ]
  },
  {
   "cell_type": "markdown",
   "metadata": {},
   "source": [
    "4. Write a Python program to Check Triangle is Valid or Not\n",
    "- Triangle inequality theorem."
   ]
  },
  {
   "cell_type": "code",
   "execution_count": 9,
   "metadata": {},
   "outputs": [
    {
     "name": "stdout",
     "output_type": "stream",
     "text": [
      "Valid triangle\n"
     ]
    }
   ],
   "source": [
    "n1 = float(input(\"Enter the first length: \"))\n",
    "n2 = float(input(\"Enter the second length: \"))\n",
    "n3 = float(input(\"Enter the third length: \"))\n",
    "\n",
    "if n1 + n2 > n2 and n3 + n2 > n1 and n3 + n1 > n2:\n",
    "    print(\"Valid triangle\")\n",
    "else:\n",
    "    print(\"Invalid triangle\")"
   ]
  },
  {
   "cell_type": "markdown",
   "metadata": {},
   "source": [
    "5.Write a python program to find the sum of odd and even numbers from a set of numbers.(Using for loops)"
   ]
  },
  {
   "cell_type": "code",
   "execution_count": 5,
   "metadata": {},
   "outputs": [
    {
     "name": "stdout",
     "output_type": "stream",
     "text": [
      "Sum of even numbers: 30\n",
      "Sum of odd numbers: 20\n"
     ]
    }
   ],
   "source": [
    "num = [1, 2, 3, 4, 6, 7, 8, 9, 10]\n",
    "odd_sum = 0\n",
    "even_sum = 0\n",
    "\n",
    "for i in num:\n",
    "    if i % 2 == 0:\n",
    "        even_sum += i\n",
    "    else:\n",
    "        odd_sum += i\n",
    "\n",
    "print(\"Sum of even numbers:\", even_sum)\n",
    "print(\"Sum of odd numbers:\", odd_sum)"
   ]
  },
  {
   "cell_type": "markdown",
   "metadata": {},
   "source": [
    "6.Write a python program to find the smallest number from a set of numbers. (Using for loops)"
   ]
  },
  {
   "cell_type": "code",
   "execution_count": 17,
   "metadata": {},
   "outputs": [
    {
     "name": "stdout",
     "output_type": "stream",
     "text": [
      "2\n"
     ]
    }
   ],
   "source": [
    "#num = [1, 2, 3, 4, 6, 7, 8, 9, 10]\n",
    "num = [10, 5, 8, 3, 7, 2, 4, 6, 9]\n",
    "smallest = num[0]\n",
    "for i in num:\n",
    "    if i < smallest:\n",
    "        smallest = i\n",
    "print(smallest)\n",
    "        "
   ]
  },
  {
   "cell_type": "markdown",
   "metadata": {},
   "source": [
    "7.Write a python program to find the sum of all numbers between 50 and 100, which are divisible by 3 and\n",
    "not divisible by 5. (Using for loops)"
   ]
  },
  {
   "cell_type": "markdown",
   "metadata": {},
   "source": []
  },
  {
   "cell_type": "code",
   "execution_count": 18,
   "metadata": {},
   "outputs": [
    {
     "name": "stdout",
     "output_type": "stream",
     "text": [
      "The sum of all numbers between 50 and 100 that are divisible by 3 but not by 5 is: 1050\n"
     ]
    }
   ],
   "source": [
    "sum = 0\n",
    "for i in range(50,101):\n",
    "    if  i  % 3 == 0 and i % 5 != 0:\n",
    "        sum += i\n",
    "print(\"The sum of all numbers between 50 and 100 that are divisible by 3 but not by 5 is:\", sum)"
   ]
  },
  {
   "cell_type": "markdown",
   "metadata": {},
   "source": [
    "8.Write a python program to find the second highest number from a set of numbers.(Using do while loop)"
   ]
  },
  {
   "cell_type": "code",
   "execution_count": 1,
   "metadata": {},
   "outputs": [
    {
     "name": "stdout",
     "output_type": "stream",
     "text": [
      "The second highest number is: 8\n"
     ]
    }
   ],
   "source": [
    "num = [3, 6, 1, 9, 5, 8, 2, 7, 4]\n",
    "highest = max(num)\n",
    "second_highest = None\n",
    "i = 0\n",
    "\n",
    "while i < len(num):\n",
    "    if num[i] != highest:\n",
    "        if second_highest is None or num[i] > second_highest:\n",
    "            second_highest = num[i]\n",
    "    i += 1\n",
    "\n",
    "if second_highest is None:\n",
    "    print(\"There is no second highest number.\")\n",
    "else:\n",
    "    print(\"The second highest number is:\", second_highest)\n"
   ]
  },
  {
   "cell_type": "markdown",
   "metadata": {},
   "source": [
    "9.Write a python program to find the factorial of a number using for loop. (Using do while loop)"
   ]
  },
  {
   "cell_type": "code",
   "execution_count": 6,
   "metadata": {},
   "outputs": [
    {
     "name": "stdout",
     "output_type": "stream",
     "text": [
      "The factorial of 36 is 371993326789901217467999448150835200000000\n"
     ]
    }
   ],
   "source": [
    "num = int(input(\"Enter a number: \"))\n",
    "factorial = 1\n",
    "i = 1\n",
    "while i <= num:\n",
    "    factorial *= i\n",
    "    i += 1\n",
    "print(\"The factorial of\", num, \"is\", factorial)"
   ]
  },
  {
   "cell_type": "markdown",
   "metadata": {},
   "source": [
    "10.Write a python program to generate Fibonacci series.  (Using do while loop).   "
   ]
  },
  {
   "cell_type": "code",
   "execution_count": 7,
   "metadata": {},
   "outputs": [
    {
     "name": "stdout",
     "output_type": "stream",
     "text": [
      "Fibonacci series up to 36 terms:\n",
      "0 1 1 2 3 5 8 13 21 34 55 89 144 233 377 610 987 1597 2584 4181 6765 10946 17711 28657 46368 75025 121393 196418 317811 514229 832040 1346269 2178309 3524578 5702887 9227465 "
     ]
    }
   ],
   "source": [
    "n = int(input(\"Enter the number of terms: \"))\n",
    "\n",
    "# initialize first two terms of the series\n",
    "a, b = 0, 1\n",
    "count = 0\n",
    "\n",
    "# check if the number of terms is valid\n",
    "if n <= 0:\n",
    "   print(\"Please enter a positive integer\")\n",
    "elif n == 1:\n",
    "   print(\"Fibonacci series up to\", n, \"term:\")\n",
    "   print(a)\n",
    "else:\n",
    "   print(\"Fibonacci series up to\", n, \"terms:\")\n",
    "   while count < n:\n",
    "       print(a, end=\" \")\n",
    "       # calculate the next term in the series\n",
    "       c = a + b\n",
    "       # update the values of a and b for the next iteration\n",
    "       a, b = b, c\n",
    "       count += 1\n"
   ]
  },
  {
   "cell_type": "markdown",
   "metadata": {},
   "source": [
    "11.Write a python program to find the largest number between two numbers using function"
   ]
  },
  {
   "cell_type": "code",
   "execution_count": 1,
   "metadata": {},
   "outputs": [
    {
     "name": "stdout",
     "output_type": "stream",
     "text": [
      "Enter the first number: 43\n",
      "Enter the second number: 32\n",
      "The largest number between 43.0 and 32.0 is 43.0\n"
     ]
    }
   ],
   "source": [
    "def find_largest(x, y):\n",
    "    if x > y:\n",
    "        return x\n",
    "    else:\n",
    "        return y\n",
    "\n",
    "# prompt the user to enter two numbers\n",
    "num1 = float(input(\"Enter the first number: \"))\n",
    "num2 = float(input(\"Enter the second number: \"))\n",
    "\n",
    "# call the function and print the result\n",
    "largest_num = find_largest(num1, num2)\n",
    "print(\"The largest number between\", num1, \"and\", num2, \"is\", largest_num)\n"
   ]
  },
  {
   "cell_type": "markdown",
   "metadata": {},
   "source": [
    "12.Write a python program to find the sum of the numbers passed as parameters."
   ]
  },
  {
   "cell_type": "code",
   "execution_count": 9,
   "metadata": {},
   "outputs": [
    {
     "name": "stdout",
     "output_type": "stream",
     "text": [
      "The sum of the numbers is: 150\n"
     ]
    }
   ],
   "source": [
    "def sum_numbers(*args):\n",
    "    total = 0\n",
    "    for num in args:\n",
    "        total += num\n",
    "    return total\n",
    "\n",
    "# call the function with multiple arguments\n",
    "result = sum_numbers(10, 20, 30, 40, 50)\n",
    "\n",
    "# print the result\n",
    "print(\"The sum of the numbers is:\", result)"
   ]
  }
 ],
 "metadata": {
  "kernelspec": {
   "display_name": "Python 3 (ipykernel)",
   "language": "python",
   "name": "python3"
  },
  "language_info": {
   "codemirror_mode": {
    "name": "ipython",
    "version": 3
   },
   "file_extension": ".py",
   "mimetype": "text/x-python",
   "name": "python",
   "nbconvert_exporter": "python",
   "pygments_lexer": "ipython3",
   "version": "3.10.9"
  },
  "varInspector": {
   "cols": {
    "lenName": 16,
    "lenType": 16,
    "lenVar": 40
   },
   "kernels_config": {
    "python": {
     "delete_cmd_postfix": "",
     "delete_cmd_prefix": "del ",
     "library": "var_list.py",
     "varRefreshCmd": "print(var_dic_list())"
    },
    "r": {
     "delete_cmd_postfix": ") ",
     "delete_cmd_prefix": "rm(",
     "library": "var_list.r",
     "varRefreshCmd": "cat(var_dic_list()) "
    }
   },
   "types_to_exclude": [
    "module",
    "function",
    "builtin_function_or_method",
    "instance",
    "_Feature"
   ],
   "window_display": false
  },
  "vscode": {
   "interpreter": {
    "hash": "370f1a6d0d72f872497157d0a55ec403fe1dd495d12c6c0fc8b896bce09f34ae"
   }
  }
 },
 "nbformat": 4,
 "nbformat_minor": 2
}
