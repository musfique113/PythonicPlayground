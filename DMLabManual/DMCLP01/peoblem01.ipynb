{
 "cells": [
  {
   "cell_type": "markdown",
   "id": "30293f71-5f8b-4824-9d8b-3b2ef190b2ec",
   "metadata": {},
   "source": [
    "### 1. Write a python program to find sum of the last theree digits or a given number"
   ]
  },
  {
   "cell_type": "code",
   "execution_count": 3,
   "id": "99ea1fa3-9771-43aa-9edb-8f3b1485be9a",
   "metadata": {},
   "outputs": [
    {
     "name": "stdin",
     "output_type": "stream",
     "text": [
      "Enter a number:  1234\n"
     ]
    },
    {
     "name": "stdout",
     "output_type": "stream",
     "text": [
      "The sum of the last three digits is: 9\n"
     ]
    }
   ],
   "source": [
    "def sum_last_three_digits(num):\n",
    "    sum = 0\n",
    "    for digit in str(num)[-3:]:\n",
    "        sum += int(digit)\n",
    "    return sum\n",
    "# user input\n",
    "num = int(input(\"Enter a number: \"))\n",
    "result = sum_last_three_digits(num)\n",
    "# Print\n",
    "print(\"The sum of the last three digits is:\", result)\n"
   ]
  },
  {
   "cell_type": "markdown",
   "id": "d877bc59-e17f-4b80-baa3-1e66968b2241",
   "metadata": {},
   "source": [
    "### 2. Design a class named techer that has data - teacher name and cell phone number. These class should paraneterized constractor ti initialize . Now write a python program that will ueacher objects to represent information about 3 teachers. your program shouls take input from keyboard and display the  inforamtion of 3 teachers."
   ]
  },
  {
   "cell_type": "code",
   "execution_count": null,
   "id": "955b517b-055b-4f84-b59c-550022eec9f8",
   "metadata": {},
   "outputs": [],
   "source": [
    "class Teacher:\n",
    "    def __init__(self, name, cell_phone):\n",
    "        self.name = name\n",
    "        self.cell_phone = cell_phone\n",
    "\n",
    "# Create an empty list to hold the Teacher objects\n",
    "teachers = []\n",
    "\n",
    "# Use a loop to create 3 Teacher objects based on user input\n",
    "for i in range(3):\n",
    "    name = input(\"Enter the teacher's name: \")\n",
    "    cell_phone = int(input(\"Enter the teacher's cell phone number: \"))\n",
    "    teacher = Teacher(name, cell_phone)\n",
    "    teachers.append(teacher)\n",
    "\n",
    "# Display the information of the 3 teachers\n",
    "for teacher in teachers:\n",
    "    print(\"Name:\", teacher.name)\n",
    "    print(\"Cell phone number:\", teacher.cell_phone)\n",
    "    print()\n"
   ]
  },
  {
   "cell_type": "code",
   "execution_count": null,
   "id": "2deb7d2f-c7d1-4ec2-9b33-356b0fbfee14",
   "metadata": {},
   "outputs": [],
   "source": []
  }
 ],
 "metadata": {
  "kernelspec": {
   "display_name": "Python 3 (ipykernel)",
   "language": "python",
   "name": "python3"
  },
  "language_info": {
   "codemirror_mode": {
    "name": "ipython",
    "version": 3
   },
   "file_extension": ".py",
   "mimetype": "text/x-python",
   "name": "python",
   "nbconvert_exporter": "python",
   "pygments_lexer": "ipython3",
   "version": "3.9.13"
  }
 },
 "nbformat": 4,
 "nbformat_minor": 5
}
