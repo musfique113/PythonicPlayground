{
 "cells": [
  {
   "cell_type": "markdown",
   "id": "c445e0bb-e743-434b-8866-9fd54b76096c",
   "metadata": {},
   "source": [
    "#  Statistical Analysis and Data Visualization using Python"
   ]
  },
  {
   "cell_type": "code",
   "execution_count": null,
   "id": "5cd2c157-c51f-4450-88f6-0fcde32f97ed",
   "metadata": {
    "tags": []
   },
   "outputs": [],
   "source": [
    "# The distribution plot is present in the Seaborn package.\n",
    "\n",
    "sns.distplot(updated_df['Age'], bins=10, kde=True, rug=False)\n",
    "#kde is for kernel density estimate\n"
   ]
  },
  {
   "cell_type": "code",
   "execution_count": null,
   "id": "c59b2b52-cf13-47b3-9d06-af5edc126b8c",
   "metadata": {},
   "outputs": [],
   "source": []
  }
 ],
 "metadata": {
  "kernelspec": {
   "display_name": "Python 3 (ipykernel)",
   "language": "python",
   "name": "python3"
  },
  "language_info": {
   "codemirror_mode": {
    "name": "ipython",
    "version": 3
   },
   "file_extension": ".py",
   "mimetype": "text/x-python",
   "name": "python",
   "nbconvert_exporter": "python",
   "pygments_lexer": "ipython3",
   "version": "3.10.9"
  }
 },
 "nbformat": 4,
 "nbformat_minor": 5
}
