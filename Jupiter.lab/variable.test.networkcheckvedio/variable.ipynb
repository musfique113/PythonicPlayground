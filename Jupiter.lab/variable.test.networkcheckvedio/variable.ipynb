{
 "cells": [
  {
   "cell_type": "code",
   "execution_count": 1,
   "id": "3f64812d-2750-415b-8188-9409b06f42db",
   "metadata": {},
   "outputs": [
    {
     "name": "stdout",
     "output_type": "stream",
     "text": [
      "What is your name ?\n"
     ]
    }
   ],
   "source": [
    "print(\"What is your name ?\")"
   ]
  },
  {
   "cell_type": "code",
   "execution_count": 10,
   "id": "55a8408c-9bda-4efc-9ee0-f3e932c9174e",
   "metadata": {},
   "outputs": [
    {
     "name": "stdin",
     "output_type": "stream",
     "text": [
      "What is your name?\n",
      " musfique\n"
     ]
    }
   ],
   "source": [
    "name = input(\"What is your name?\\n\")"
   ]
  },
  {
   "cell_type": "code",
   "execution_count": 11,
   "id": "01212f5b-0de8-48a0-a861-b779f4ec91fa",
   "metadata": {},
   "outputs": [
    {
     "name": "stdout",
     "output_type": "stream",
     "text": [
      "musfique\n"
     ]
    }
   ],
   "source": [
    "print(name)"
   ]
  },
  {
   "cell_type": "code",
   "execution_count": 12,
   "id": "b31ab760-1bf3-4128-bd57-47b7709febef",
   "metadata": {},
   "outputs": [
    {
     "name": "stdout",
     "output_type": "stream",
     "text": [
      "Hello musfique, welcome\n"
     ]
    }
   ],
   "source": [
    "print(\"Hello \" + name + \", welcome\")"
   ]
  },
  {
   "cell_type": "code",
   "execution_count": null,
   "id": "a382dd5f-54fb-48a6-a887-88b45796acbb",
   "metadata": {},
   "outputs": [],
   "source": []
  }
 ],
 "metadata": {
  "kernelspec": {
   "display_name": "Python 3 (ipykernel)",
   "language": "python",
   "name": "python3"
  },
  "language_info": {
   "codemirror_mode": {
    "name": "ipython",
    "version": 3
   },
   "file_extension": ".py",
   "mimetype": "text/x-python",
   "name": "python",
   "nbconvert_exporter": "python",
   "pygments_lexer": "ipython3",
   "version": "3.10.5"
  }
 },
 "nbformat": 4,
 "nbformat_minor": 5
}
