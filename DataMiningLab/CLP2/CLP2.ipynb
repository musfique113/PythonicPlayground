{
  "nbformat": 4,
  "nbformat_minor": 0,
  "metadata": {
    "colab": {
      "provenance": []
    },
    "kernelspec": {
      "name": "python3",
      "display_name": "Python 3"
    },
    "language_info": {
      "name": "python"
    }
  },
  "cells": [
    {
      "cell_type": "code",
      "execution_count": null,
      "metadata": {
        "id": "tqPCyBnxkfWd"
      },
      "outputs": [],
      "source": [
        "import numpy as np \n",
        "import pandas as pd \n",
        "from mlxtend.preprocessing import TransactionEncoder\n",
        "from mlxtend.frequent_patterns import apriori\n",
        "from sklearn import preprocessing\n",
        "label_encoder = preprocessing.LabelEncoder()\n",
        "df=pd.read_csv(\"BreadBasket_DMS.csv\")"
      ]
    },
    {
      "cell_type": "code",
      "source": [
        "df.info()\n",
        "df.head(30)"
      ],
      "metadata": {
        "id": "vhcE7othldSj"
      },
      "execution_count": null,
      "outputs": []
    },
    {
      "cell_type": "code",
      "source": [
        "# getting the statistical summary of the data\n",
        "df.describe()"
      ],
      "metadata": {
        "id": "CnsbTk_rx8T5"
      },
      "execution_count": null,
      "outputs": []
    },
    {
      "cell_type": "code",
      "source": [
        "print(df.isnull().sum())"
      ],
      "metadata": {
        "id": "zoWf5K4wlCNT"
      },
      "execution_count": null,
      "outputs": []
    },
    {
      "cell_type": "code",
      "source": [
        "df.drop_duplicates(inplace = True)\n",
        "print(df.duplicated())"
      ],
      "metadata": {
        "id": "NH3dOYYol2PG"
      },
      "execution_count": null,
      "outputs": []
    },
    {
      "cell_type": "code",
      "source": [
        "print(df.isnull().sum())"
      ],
      "metadata": {
        "id": "65ig77QwzCIH"
      },
      "execution_count": null,
      "outputs": []
    },
    {
      "cell_type": "code",
      "source": [
        "df.groupby(['Transaction'])\n",
        "df.head(30)"
      ],
      "metadata": {
        "id": "enHuVOvAyEnN"
      },
      "execution_count": null,
      "outputs": []
    },
    {
      "cell_type": "code",
      "source": [
        "df['Transaction']= label_encoder.fit_transform(df['Transaction'])\n",
        "transactions = df['Transaction']\n",
        "items = df['Item']"
      ],
      "metadata": {
        "id": "tx39TJWimK-C"
      },
      "execution_count": null,
      "outputs": []
    },
    {
      "cell_type": "code",
      "source": [
        "df.head(30)"
      ],
      "metadata": {
        "id": "mtmW_Yn9vyfK"
      },
      "execution_count": null,
      "outputs": []
    },
    {
      "cell_type": "code",
      "source": [
        "df.shape"
      ],
      "metadata": {
        "id": "dKmaKfOgv5Kd"
      },
      "execution_count": null,
      "outputs": []
    },
    {
      "cell_type": "code",
      "source": [
        "df.dtypes "
      ],
      "metadata": {
        "id": "bPew8Phtv95Q"
      },
      "execution_count": null,
      "outputs": []
    },
    {
      "cell_type": "code",
      "source": [
        "# list of unique items\n",
        "unique_items = items.unique().tolist()\n",
        "unique_items"
      ],
      "metadata": {
        "id": "YVUkD3IFoWR6"
      },
      "execution_count": null,
      "outputs": []
    },
    {
      "cell_type": "code",
      "source": [
        "# frequency table\n",
        "frequency_table = df.groupby(['Transaction', 'Item']).size().reset_index(name='Frequency')\n",
        "frequency_table"
      ],
      "metadata": {
        "id": "d58DYoXHohNm"
      },
      "execution_count": null,
      "outputs": []
    },
    {
      "cell_type": "code",
      "source": [
        "grouped_df = df.groupby(['Transaction','Item'])['Item'].count().reset_index(name='Count')\n",
        "basket_df = grouped_df.pivot_table(index='Transaction', columns='Item', values='Count', aggfunc='sum').fillna(0)"
      ],
      "metadata": {
        "id": "xazD2jyaybWr"
      },
      "execution_count": null,
      "outputs": []
    },
    {
      "cell_type": "code",
      "source": [
        "# Defining the hot encoding function to make the data suitable for the concerned libraries \n",
        "def hot_encode(x): \n",
        "    if(x<= 0): \n",
        "        return 0\n",
        "    if(x>= 1): \n",
        "        return "
      ],
      "metadata": {
        "id": "AI6vC2PryeoC"
      },
      "execution_count": null,
      "outputs": []
    },
    {
      "cell_type": "code",
      "source": [
        "# Encoding the datasets \n",
        "basket_encoded = basket_df.applymap(hot_encode) \n",
        "basket_df = basket_encoded \n",
        "\n",
        "basket_df"
      ],
      "metadata": {
        "id": "A80tzJ0Kyf8-"
      },
      "execution_count": null,
      "outputs": []
    },
    {
      "cell_type": "code",
      "source": [
        "# minimum support threshold.\n",
        "min_support = 1\n",
        "\n",
        "# support for each item\n",
        "item_support = frequency_table.groupby('Item')['Transaction'].count() / len(transactions)\n",
        "\n",
        "# Filter out items based on the support threshold\n",
        "significant_items = item_support[item_support >= min_support].index.tolist()\n"
      ],
      "metadata": {
        "id": "GAJHKFMsrINL"
      },
      "execution_count": null,
      "outputs": []
    },
    {
      "cell_type": "code",
      "source": [
        "item_support"
      ],
      "metadata": {
        "id": "6lxnflW5rOJ3"
      },
      "execution_count": null,
      "outputs": []
    },
    {
      "cell_type": "code",
      "source": [
        "from itertools import combinations\n",
        "\n",
        "# Generate all pair combinations of significant items\n",
        "item_pairs = list(combinations(significant_items, 2))\n",
        "item_pairs\n"
      ],
      "metadata": {
        "id": "OHOo6UKRrUmn"
      },
      "execution_count": null,
      "outputs": []
    },
    {
      "cell_type": "code",
      "source": [
        "pair_counts = frequency_table.groupby(['Transaction', 'Item'])['Frequency'].sum().reset_index()\n",
        "pair_counts = pair_counts[pair_counts['Item'].isin(significant_items)]\n",
        "\n",
        "pair_counts = pair_counts.groupby(['Item', 'Transaction']).size().reset_index(name='PairCount')\n",
        "pair_counts"
      ],
      "metadata": {
        "id": "OMAZCoMQrbqW"
      },
      "execution_count": null,
      "outputs": []
    },
    {
      "cell_type": "code",
      "source": [
        "# Generate all combinations of three items\n",
        "three_item_combinations = list(combinations(significant_items, 3))\n",
        "\n",
        "three_item_combinations"
      ],
      "metadata": {
        "id": "hU4A9b53rnkW"
      },
      "execution_count": null,
      "outputs": []
    }
  ]
}