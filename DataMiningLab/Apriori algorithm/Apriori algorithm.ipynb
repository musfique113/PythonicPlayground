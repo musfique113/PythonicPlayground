{
  "cells": [
    {
      "cell_type": "code",
      "execution_count": null,
      "metadata": {
        "id": "iR977FwH3OLG"
      },
      "outputs": [],
      "source": [
        "import numpy as np \n",
        "import pandas as pd \n",
        "df=pd.read_csv(\"kidney_disease.csv\")"
      ]
    },
    {
      "cell_type": "code",
      "execution_count": null,
      "metadata": {
        "colab": {
          "base_uri": "https://localhost:8080/",
          "height": 392
        },
        "id": "3-V0k1sq4Iwm",
        "outputId": "e7380703-9f7d-4a35-b823-f279a2fb28db"
      },
      "outputs": [],
      "source": [
        "df.head(10)"
      ]
    },
    {
      "cell_type": "code",
      "execution_count": null,
      "metadata": {
        "colab": {
          "base_uri": "https://localhost:8080/"
        },
        "id": "Mfpq5yQC4ePe",
        "outputId": "e6f0e165-d704-4a68-d8f2-7e7054d48250"
      },
      "outputs": [],
      "source": [
        "print(df.info())"
      ]
    },
    {
      "cell_type": "code",
      "execution_count": null,
      "metadata": {
        "colab": {
          "base_uri": "https://localhost:8080/"
        },
        "id": "nHKbHivN4jTm",
        "outputId": "31d59b34-229b-4850-bb93-9a65fc294d05"
      },
      "outputs": [],
      "source": [
        "print(df.isnull().sum())"
      ]
    },
    {
      "cell_type": "code",
      "execution_count": null,
      "metadata": {
        "id": "6MjLt6Jd4rZe"
      },
      "outputs": [],
      "source": [
        "#df.dropna( inplace = True)"
      ]
    },
    {
      "cell_type": "code",
      "execution_count": null,
      "metadata": {
        "id": "qwyztSNSrQW4"
      },
      "outputs": [],
      "source": [
        "x = df[\"age\"].mode()\n",
        "\n",
        "df[\"age\"].fillna(x[0], inplace = True)"
      ]
    },
    {
      "cell_type": "code",
      "execution_count": null,
      "metadata": {
        "colab": {
          "base_uri": "https://localhost:8080/"
        },
        "id": "E6ts0MEl4UxX",
        "outputId": "cf10856c-fd2a-42c2-b0bb-be1efe404071"
      },
      "outputs": [],
      "source": [
        "print(df.isnull().sum())"
      ]
    },
    {
      "cell_type": "code",
      "execution_count": null,
      "metadata": {
        "colab": {
          "base_uri": "https://localhost:8080/"
        },
        "id": "6pSxA3AC4xbu",
        "outputId": "6c201165-e40b-463b-c635-bed9647b31dc"
      },
      "outputs": [],
      "source": [
        "print(df.duplicated())"
      ]
    },
    {
      "cell_type": "code",
      "execution_count": null,
      "metadata": {
        "id": "oPkKREJl43S2"
      },
      "outputs": [],
      "source": [
        "df.drop_duplicates(inplace = True)"
      ]
    },
    {
      "cell_type": "code",
      "execution_count": 3,
      "metadata": {
        "id": "MUi13l3m5AV1"
      },
      "outputs": [],
      "source": [
        "from sklearn import preprocessing\n",
        "label_encoder = preprocessing.LabelEncoder()"
      ]
    },
    {
      "cell_type": "code",
      "execution_count": 4,
      "metadata": {
        "id": "xVrwdQ_85IM3"
      },
      "outputs": [],
      "source": [
        "df['classification']= label_encoder.fit_transform(df['classification'])"
      ]
    },
    {
      "cell_type": "code",
      "execution_count": 6,
      "metadata": {
        "colab": {
          "base_uri": "https://localhost:8080/",
          "height": 424
        },
        "id": "fKlTBm6u5O-G",
        "outputId": "05716f54-58b3-4c4b-f49f-98a9f80233b1"
      },
      "outputs": [
        {
          "data": {
            "text/html": [
              "<div>\n",
              "<style scoped>\n",
              "    .dataframe tbody tr th:only-of-type {\n",
              "        vertical-align: middle;\n",
              "    }\n",
              "\n",
              "    .dataframe tbody tr th {\n",
              "        vertical-align: top;\n",
              "    }\n",
              "\n",
              "    .dataframe thead th {\n",
              "        text-align: right;\n",
              "    }\n",
              "</style>\n",
              "<table border=\"1\" class=\"dataframe\">\n",
              "  <thead>\n",
              "    <tr style=\"text-align: right;\">\n",
              "      <th></th>\n",
              "      <th>id</th>\n",
              "      <th>age</th>\n",
              "      <th>bp</th>\n",
              "      <th>sg</th>\n",
              "      <th>al</th>\n",
              "      <th>su</th>\n",
              "      <th>rbc</th>\n",
              "      <th>pc</th>\n",
              "      <th>pcc</th>\n",
              "      <th>ba</th>\n",
              "      <th>...</th>\n",
              "      <th>pcv</th>\n",
              "      <th>wc</th>\n",
              "      <th>rc</th>\n",
              "      <th>htn</th>\n",
              "      <th>dm</th>\n",
              "      <th>cad</th>\n",
              "      <th>appet</th>\n",
              "      <th>pe</th>\n",
              "      <th>ane</th>\n",
              "      <th>classification</th>\n",
              "    </tr>\n",
              "  </thead>\n",
              "  <tbody>\n",
              "    <tr>\n",
              "      <th>0</th>\n",
              "      <td>0</td>\n",
              "      <td>48.0</td>\n",
              "      <td>80.0</td>\n",
              "      <td>1.020</td>\n",
              "      <td>1.0</td>\n",
              "      <td>0.0</td>\n",
              "      <td>NaN</td>\n",
              "      <td>normal</td>\n",
              "      <td>notpresent</td>\n",
              "      <td>notpresent</td>\n",
              "      <td>...</td>\n",
              "      <td>44</td>\n",
              "      <td>7800</td>\n",
              "      <td>5.2</td>\n",
              "      <td>yes</td>\n",
              "      <td>yes</td>\n",
              "      <td>no</td>\n",
              "      <td>good</td>\n",
              "      <td>no</td>\n",
              "      <td>no</td>\n",
              "      <td>0</td>\n",
              "    </tr>\n",
              "    <tr>\n",
              "      <th>1</th>\n",
              "      <td>1</td>\n",
              "      <td>7.0</td>\n",
              "      <td>50.0</td>\n",
              "      <td>1.020</td>\n",
              "      <td>4.0</td>\n",
              "      <td>0.0</td>\n",
              "      <td>NaN</td>\n",
              "      <td>normal</td>\n",
              "      <td>notpresent</td>\n",
              "      <td>notpresent</td>\n",
              "      <td>...</td>\n",
              "      <td>38</td>\n",
              "      <td>6000</td>\n",
              "      <td>NaN</td>\n",
              "      <td>no</td>\n",
              "      <td>no</td>\n",
              "      <td>no</td>\n",
              "      <td>good</td>\n",
              "      <td>no</td>\n",
              "      <td>no</td>\n",
              "      <td>0</td>\n",
              "    </tr>\n",
              "    <tr>\n",
              "      <th>2</th>\n",
              "      <td>2</td>\n",
              "      <td>62.0</td>\n",
              "      <td>80.0</td>\n",
              "      <td>1.010</td>\n",
              "      <td>2.0</td>\n",
              "      <td>3.0</td>\n",
              "      <td>normal</td>\n",
              "      <td>normal</td>\n",
              "      <td>notpresent</td>\n",
              "      <td>notpresent</td>\n",
              "      <td>...</td>\n",
              "      <td>31</td>\n",
              "      <td>7500</td>\n",
              "      <td>NaN</td>\n",
              "      <td>no</td>\n",
              "      <td>yes</td>\n",
              "      <td>no</td>\n",
              "      <td>poor</td>\n",
              "      <td>no</td>\n",
              "      <td>yes</td>\n",
              "      <td>0</td>\n",
              "    </tr>\n",
              "    <tr>\n",
              "      <th>3</th>\n",
              "      <td>3</td>\n",
              "      <td>48.0</td>\n",
              "      <td>70.0</td>\n",
              "      <td>1.005</td>\n",
              "      <td>4.0</td>\n",
              "      <td>0.0</td>\n",
              "      <td>normal</td>\n",
              "      <td>abnormal</td>\n",
              "      <td>present</td>\n",
              "      <td>notpresent</td>\n",
              "      <td>...</td>\n",
              "      <td>32</td>\n",
              "      <td>6700</td>\n",
              "      <td>3.9</td>\n",
              "      <td>yes</td>\n",
              "      <td>no</td>\n",
              "      <td>no</td>\n",
              "      <td>poor</td>\n",
              "      <td>yes</td>\n",
              "      <td>yes</td>\n",
              "      <td>0</td>\n",
              "    </tr>\n",
              "    <tr>\n",
              "      <th>4</th>\n",
              "      <td>4</td>\n",
              "      <td>51.0</td>\n",
              "      <td>80.0</td>\n",
              "      <td>1.010</td>\n",
              "      <td>2.0</td>\n",
              "      <td>0.0</td>\n",
              "      <td>normal</td>\n",
              "      <td>normal</td>\n",
              "      <td>notpresent</td>\n",
              "      <td>notpresent</td>\n",
              "      <td>...</td>\n",
              "      <td>35</td>\n",
              "      <td>7300</td>\n",
              "      <td>4.6</td>\n",
              "      <td>no</td>\n",
              "      <td>no</td>\n",
              "      <td>no</td>\n",
              "      <td>good</td>\n",
              "      <td>no</td>\n",
              "      <td>no</td>\n",
              "      <td>0</td>\n",
              "    </tr>\n",
              "    <tr>\n",
              "      <th>5</th>\n",
              "      <td>5</td>\n",
              "      <td>60.0</td>\n",
              "      <td>90.0</td>\n",
              "      <td>1.015</td>\n",
              "      <td>3.0</td>\n",
              "      <td>0.0</td>\n",
              "      <td>NaN</td>\n",
              "      <td>NaN</td>\n",
              "      <td>notpresent</td>\n",
              "      <td>notpresent</td>\n",
              "      <td>...</td>\n",
              "      <td>39</td>\n",
              "      <td>7800</td>\n",
              "      <td>4.4</td>\n",
              "      <td>yes</td>\n",
              "      <td>yes</td>\n",
              "      <td>no</td>\n",
              "      <td>good</td>\n",
              "      <td>yes</td>\n",
              "      <td>no</td>\n",
              "      <td>0</td>\n",
              "    </tr>\n",
              "    <tr>\n",
              "      <th>6</th>\n",
              "      <td>6</td>\n",
              "      <td>68.0</td>\n",
              "      <td>70.0</td>\n",
              "      <td>1.010</td>\n",
              "      <td>0.0</td>\n",
              "      <td>0.0</td>\n",
              "      <td>NaN</td>\n",
              "      <td>normal</td>\n",
              "      <td>notpresent</td>\n",
              "      <td>notpresent</td>\n",
              "      <td>...</td>\n",
              "      <td>36</td>\n",
              "      <td>NaN</td>\n",
              "      <td>NaN</td>\n",
              "      <td>no</td>\n",
              "      <td>no</td>\n",
              "      <td>no</td>\n",
              "      <td>good</td>\n",
              "      <td>no</td>\n",
              "      <td>no</td>\n",
              "      <td>0</td>\n",
              "    </tr>\n",
              "    <tr>\n",
              "      <th>7</th>\n",
              "      <td>7</td>\n",
              "      <td>24.0</td>\n",
              "      <td>NaN</td>\n",
              "      <td>1.015</td>\n",
              "      <td>2.0</td>\n",
              "      <td>4.0</td>\n",
              "      <td>normal</td>\n",
              "      <td>abnormal</td>\n",
              "      <td>notpresent</td>\n",
              "      <td>notpresent</td>\n",
              "      <td>...</td>\n",
              "      <td>44</td>\n",
              "      <td>6900</td>\n",
              "      <td>5</td>\n",
              "      <td>no</td>\n",
              "      <td>yes</td>\n",
              "      <td>no</td>\n",
              "      <td>good</td>\n",
              "      <td>yes</td>\n",
              "      <td>no</td>\n",
              "      <td>0</td>\n",
              "    </tr>\n",
              "    <tr>\n",
              "      <th>8</th>\n",
              "      <td>8</td>\n",
              "      <td>52.0</td>\n",
              "      <td>100.0</td>\n",
              "      <td>1.015</td>\n",
              "      <td>3.0</td>\n",
              "      <td>0.0</td>\n",
              "      <td>normal</td>\n",
              "      <td>abnormal</td>\n",
              "      <td>present</td>\n",
              "      <td>notpresent</td>\n",
              "      <td>...</td>\n",
              "      <td>33</td>\n",
              "      <td>9600</td>\n",
              "      <td>4.0</td>\n",
              "      <td>yes</td>\n",
              "      <td>yes</td>\n",
              "      <td>no</td>\n",
              "      <td>good</td>\n",
              "      <td>no</td>\n",
              "      <td>yes</td>\n",
              "      <td>0</td>\n",
              "    </tr>\n",
              "    <tr>\n",
              "      <th>9</th>\n",
              "      <td>9</td>\n",
              "      <td>53.0</td>\n",
              "      <td>90.0</td>\n",
              "      <td>1.020</td>\n",
              "      <td>2.0</td>\n",
              "      <td>0.0</td>\n",
              "      <td>abnormal</td>\n",
              "      <td>abnormal</td>\n",
              "      <td>present</td>\n",
              "      <td>notpresent</td>\n",
              "      <td>...</td>\n",
              "      <td>29</td>\n",
              "      <td>12100</td>\n",
              "      <td>3.7</td>\n",
              "      <td>yes</td>\n",
              "      <td>yes</td>\n",
              "      <td>no</td>\n",
              "      <td>poor</td>\n",
              "      <td>no</td>\n",
              "      <td>yes</td>\n",
              "      <td>0</td>\n",
              "    </tr>\n",
              "    <tr>\n",
              "      <th>10</th>\n",
              "      <td>10</td>\n",
              "      <td>50.0</td>\n",
              "      <td>60.0</td>\n",
              "      <td>1.010</td>\n",
              "      <td>2.0</td>\n",
              "      <td>4.0</td>\n",
              "      <td>NaN</td>\n",
              "      <td>abnormal</td>\n",
              "      <td>present</td>\n",
              "      <td>notpresent</td>\n",
              "      <td>...</td>\n",
              "      <td>28</td>\n",
              "      <td>NaN</td>\n",
              "      <td>NaN</td>\n",
              "      <td>yes</td>\n",
              "      <td>yes</td>\n",
              "      <td>no</td>\n",
              "      <td>good</td>\n",
              "      <td>no</td>\n",
              "      <td>yes</td>\n",
              "      <td>0</td>\n",
              "    </tr>\n",
              "    <tr>\n",
              "      <th>11</th>\n",
              "      <td>11</td>\n",
              "      <td>63.0</td>\n",
              "      <td>70.0</td>\n",
              "      <td>1.010</td>\n",
              "      <td>3.0</td>\n",
              "      <td>0.0</td>\n",
              "      <td>abnormal</td>\n",
              "      <td>abnormal</td>\n",
              "      <td>present</td>\n",
              "      <td>notpresent</td>\n",
              "      <td>...</td>\n",
              "      <td>32</td>\n",
              "      <td>4500</td>\n",
              "      <td>3.8</td>\n",
              "      <td>yes</td>\n",
              "      <td>yes</td>\n",
              "      <td>no</td>\n",
              "      <td>poor</td>\n",
              "      <td>yes</td>\n",
              "      <td>no</td>\n",
              "      <td>0</td>\n",
              "    </tr>\n",
              "    <tr>\n",
              "      <th>12</th>\n",
              "      <td>12</td>\n",
              "      <td>68.0</td>\n",
              "      <td>70.0</td>\n",
              "      <td>1.015</td>\n",
              "      <td>3.0</td>\n",
              "      <td>1.0</td>\n",
              "      <td>NaN</td>\n",
              "      <td>normal</td>\n",
              "      <td>present</td>\n",
              "      <td>notpresent</td>\n",
              "      <td>...</td>\n",
              "      <td>28</td>\n",
              "      <td>12200</td>\n",
              "      <td>3.4</td>\n",
              "      <td>yes</td>\n",
              "      <td>yes</td>\n",
              "      <td>yes</td>\n",
              "      <td>poor</td>\n",
              "      <td>yes</td>\n",
              "      <td>no</td>\n",
              "      <td>0</td>\n",
              "    </tr>\n",
              "    <tr>\n",
              "      <th>13</th>\n",
              "      <td>13</td>\n",
              "      <td>68.0</td>\n",
              "      <td>70.0</td>\n",
              "      <td>NaN</td>\n",
              "      <td>NaN</td>\n",
              "      <td>NaN</td>\n",
              "      <td>NaN</td>\n",
              "      <td>NaN</td>\n",
              "      <td>notpresent</td>\n",
              "      <td>notpresent</td>\n",
              "      <td>...</td>\n",
              "      <td>NaN</td>\n",
              "      <td>NaN</td>\n",
              "      <td>NaN</td>\n",
              "      <td>yes</td>\n",
              "      <td>yes</td>\n",
              "      <td>yes</td>\n",
              "      <td>poor</td>\n",
              "      <td>yes</td>\n",
              "      <td>no</td>\n",
              "      <td>0</td>\n",
              "    </tr>\n",
              "    <tr>\n",
              "      <th>14</th>\n",
              "      <td>14</td>\n",
              "      <td>68.0</td>\n",
              "      <td>80.0</td>\n",
              "      <td>1.010</td>\n",
              "      <td>3.0</td>\n",
              "      <td>2.0</td>\n",
              "      <td>normal</td>\n",
              "      <td>abnormal</td>\n",
              "      <td>present</td>\n",
              "      <td>present</td>\n",
              "      <td>...</td>\n",
              "      <td>16</td>\n",
              "      <td>11000</td>\n",
              "      <td>2.6</td>\n",
              "      <td>yes</td>\n",
              "      <td>yes</td>\n",
              "      <td>yes</td>\n",
              "      <td>poor</td>\n",
              "      <td>yes</td>\n",
              "      <td>no</td>\n",
              "      <td>0</td>\n",
              "    </tr>\n",
              "    <tr>\n",
              "      <th>15</th>\n",
              "      <td>15</td>\n",
              "      <td>40.0</td>\n",
              "      <td>80.0</td>\n",
              "      <td>1.015</td>\n",
              "      <td>3.0</td>\n",
              "      <td>0.0</td>\n",
              "      <td>NaN</td>\n",
              "      <td>normal</td>\n",
              "      <td>notpresent</td>\n",
              "      <td>notpresent</td>\n",
              "      <td>...</td>\n",
              "      <td>24</td>\n",
              "      <td>3800</td>\n",
              "      <td>2.8</td>\n",
              "      <td>yes</td>\n",
              "      <td>no</td>\n",
              "      <td>no</td>\n",
              "      <td>good</td>\n",
              "      <td>no</td>\n",
              "      <td>yes</td>\n",
              "      <td>0</td>\n",
              "    </tr>\n",
              "    <tr>\n",
              "      <th>16</th>\n",
              "      <td>16</td>\n",
              "      <td>47.0</td>\n",
              "      <td>70.0</td>\n",
              "      <td>1.015</td>\n",
              "      <td>2.0</td>\n",
              "      <td>0.0</td>\n",
              "      <td>NaN</td>\n",
              "      <td>normal</td>\n",
              "      <td>notpresent</td>\n",
              "      <td>notpresent</td>\n",
              "      <td>...</td>\n",
              "      <td>NaN</td>\n",
              "      <td>NaN</td>\n",
              "      <td>NaN</td>\n",
              "      <td>no</td>\n",
              "      <td>no</td>\n",
              "      <td>no</td>\n",
              "      <td>good</td>\n",
              "      <td>no</td>\n",
              "      <td>no</td>\n",
              "      <td>0</td>\n",
              "    </tr>\n",
              "    <tr>\n",
              "      <th>17</th>\n",
              "      <td>17</td>\n",
              "      <td>47.0</td>\n",
              "      <td>80.0</td>\n",
              "      <td>NaN</td>\n",
              "      <td>NaN</td>\n",
              "      <td>NaN</td>\n",
              "      <td>NaN</td>\n",
              "      <td>NaN</td>\n",
              "      <td>notpresent</td>\n",
              "      <td>notpresent</td>\n",
              "      <td>...</td>\n",
              "      <td>NaN</td>\n",
              "      <td>NaN</td>\n",
              "      <td>NaN</td>\n",
              "      <td>yes</td>\n",
              "      <td>no</td>\n",
              "      <td>no</td>\n",
              "      <td>poor</td>\n",
              "      <td>no</td>\n",
              "      <td>no</td>\n",
              "      <td>0</td>\n",
              "    </tr>\n",
              "    <tr>\n",
              "      <th>18</th>\n",
              "      <td>18</td>\n",
              "      <td>60.0</td>\n",
              "      <td>100.0</td>\n",
              "      <td>1.025</td>\n",
              "      <td>0.0</td>\n",
              "      <td>3.0</td>\n",
              "      <td>NaN</td>\n",
              "      <td>normal</td>\n",
              "      <td>notpresent</td>\n",
              "      <td>notpresent</td>\n",
              "      <td>...</td>\n",
              "      <td>37</td>\n",
              "      <td>11400</td>\n",
              "      <td>4.3</td>\n",
              "      <td>yes</td>\n",
              "      <td>yes</td>\n",
              "      <td>yes</td>\n",
              "      <td>good</td>\n",
              "      <td>no</td>\n",
              "      <td>no</td>\n",
              "      <td>0</td>\n",
              "    </tr>\n",
              "    <tr>\n",
              "      <th>19</th>\n",
              "      <td>19</td>\n",
              "      <td>62.0</td>\n",
              "      <td>60.0</td>\n",
              "      <td>1.015</td>\n",
              "      <td>1.0</td>\n",
              "      <td>0.0</td>\n",
              "      <td>NaN</td>\n",
              "      <td>abnormal</td>\n",
              "      <td>present</td>\n",
              "      <td>notpresent</td>\n",
              "      <td>...</td>\n",
              "      <td>30</td>\n",
              "      <td>5300</td>\n",
              "      <td>3.7</td>\n",
              "      <td>yes</td>\n",
              "      <td>no</td>\n",
              "      <td>yes</td>\n",
              "      <td>good</td>\n",
              "      <td>no</td>\n",
              "      <td>no</td>\n",
              "      <td>0</td>\n",
              "    </tr>\n",
              "    <tr>\n",
              "      <th>20</th>\n",
              "      <td>20</td>\n",
              "      <td>61.0</td>\n",
              "      <td>80.0</td>\n",
              "      <td>1.015</td>\n",
              "      <td>2.0</td>\n",
              "      <td>0.0</td>\n",
              "      <td>abnormal</td>\n",
              "      <td>abnormal</td>\n",
              "      <td>notpresent</td>\n",
              "      <td>notpresent</td>\n",
              "      <td>...</td>\n",
              "      <td>24</td>\n",
              "      <td>9200</td>\n",
              "      <td>3.2</td>\n",
              "      <td>yes</td>\n",
              "      <td>yes</td>\n",
              "      <td>yes</td>\n",
              "      <td>poor</td>\n",
              "      <td>yes</td>\n",
              "      <td>yes</td>\n",
              "      <td>0</td>\n",
              "    </tr>\n",
              "    <tr>\n",
              "      <th>21</th>\n",
              "      <td>21</td>\n",
              "      <td>60.0</td>\n",
              "      <td>90.0</td>\n",
              "      <td>NaN</td>\n",
              "      <td>NaN</td>\n",
              "      <td>NaN</td>\n",
              "      <td>NaN</td>\n",
              "      <td>NaN</td>\n",
              "      <td>notpresent</td>\n",
              "      <td>notpresent</td>\n",
              "      <td>...</td>\n",
              "      <td>32</td>\n",
              "      <td>6200</td>\n",
              "      <td>3.6</td>\n",
              "      <td>yes</td>\n",
              "      <td>yes</td>\n",
              "      <td>yes</td>\n",
              "      <td>good</td>\n",
              "      <td>no</td>\n",
              "      <td>no</td>\n",
              "      <td>0</td>\n",
              "    </tr>\n",
              "    <tr>\n",
              "      <th>22</th>\n",
              "      <td>22</td>\n",
              "      <td>48.0</td>\n",
              "      <td>80.0</td>\n",
              "      <td>1.025</td>\n",
              "      <td>4.0</td>\n",
              "      <td>0.0</td>\n",
              "      <td>normal</td>\n",
              "      <td>abnormal</td>\n",
              "      <td>notpresent</td>\n",
              "      <td>notpresent</td>\n",
              "      <td>...</td>\n",
              "      <td>32</td>\n",
              "      <td>6900</td>\n",
              "      <td>3.4</td>\n",
              "      <td>yes</td>\n",
              "      <td>no</td>\n",
              "      <td>no</td>\n",
              "      <td>good</td>\n",
              "      <td>no</td>\n",
              "      <td>yes</td>\n",
              "      <td>0</td>\n",
              "    </tr>\n",
              "    <tr>\n",
              "      <th>23</th>\n",
              "      <td>23</td>\n",
              "      <td>21.0</td>\n",
              "      <td>70.0</td>\n",
              "      <td>1.010</td>\n",
              "      <td>0.0</td>\n",
              "      <td>0.0</td>\n",
              "      <td>NaN</td>\n",
              "      <td>normal</td>\n",
              "      <td>notpresent</td>\n",
              "      <td>notpresent</td>\n",
              "      <td>...</td>\n",
              "      <td>NaN</td>\n",
              "      <td>NaN</td>\n",
              "      <td>NaN</td>\n",
              "      <td>no</td>\n",
              "      <td>no</td>\n",
              "      <td>no</td>\n",
              "      <td>poor</td>\n",
              "      <td>no</td>\n",
              "      <td>yes</td>\n",
              "      <td>0</td>\n",
              "    </tr>\n",
              "    <tr>\n",
              "      <th>24</th>\n",
              "      <td>24</td>\n",
              "      <td>42.0</td>\n",
              "      <td>100.0</td>\n",
              "      <td>1.015</td>\n",
              "      <td>4.0</td>\n",
              "      <td>0.0</td>\n",
              "      <td>normal</td>\n",
              "      <td>abnormal</td>\n",
              "      <td>notpresent</td>\n",
              "      <td>present</td>\n",
              "      <td>...</td>\n",
              "      <td>39</td>\n",
              "      <td>8300</td>\n",
              "      <td>4.6</td>\n",
              "      <td>yes</td>\n",
              "      <td>no</td>\n",
              "      <td>no</td>\n",
              "      <td>poor</td>\n",
              "      <td>no</td>\n",
              "      <td>no</td>\n",
              "      <td>0</td>\n",
              "    </tr>\n",
              "    <tr>\n",
              "      <th>25</th>\n",
              "      <td>25</td>\n",
              "      <td>61.0</td>\n",
              "      <td>60.0</td>\n",
              "      <td>1.025</td>\n",
              "      <td>0.0</td>\n",
              "      <td>0.0</td>\n",
              "      <td>NaN</td>\n",
              "      <td>normal</td>\n",
              "      <td>notpresent</td>\n",
              "      <td>notpresent</td>\n",
              "      <td>...</td>\n",
              "      <td>29</td>\n",
              "      <td>8400</td>\n",
              "      <td>3.7</td>\n",
              "      <td>yes</td>\n",
              "      <td>yes</td>\n",
              "      <td>no</td>\n",
              "      <td>good</td>\n",
              "      <td>no</td>\n",
              "      <td>yes</td>\n",
              "      <td>0</td>\n",
              "    </tr>\n",
              "    <tr>\n",
              "      <th>26</th>\n",
              "      <td>26</td>\n",
              "      <td>75.0</td>\n",
              "      <td>80.0</td>\n",
              "      <td>1.015</td>\n",
              "      <td>0.0</td>\n",
              "      <td>0.0</td>\n",
              "      <td>NaN</td>\n",
              "      <td>normal</td>\n",
              "      <td>notpresent</td>\n",
              "      <td>notpresent</td>\n",
              "      <td>...</td>\n",
              "      <td>35</td>\n",
              "      <td>10300</td>\n",
              "      <td>4</td>\n",
              "      <td>yes</td>\n",
              "      <td>yes</td>\n",
              "      <td>no</td>\n",
              "      <td>poor</td>\n",
              "      <td>no</td>\n",
              "      <td>no</td>\n",
              "      <td>0</td>\n",
              "    </tr>\n",
              "    <tr>\n",
              "      <th>27</th>\n",
              "      <td>27</td>\n",
              "      <td>69.0</td>\n",
              "      <td>70.0</td>\n",
              "      <td>1.010</td>\n",
              "      <td>3.0</td>\n",
              "      <td>4.0</td>\n",
              "      <td>normal</td>\n",
              "      <td>abnormal</td>\n",
              "      <td>notpresent</td>\n",
              "      <td>notpresent</td>\n",
              "      <td>...</td>\n",
              "      <td>37</td>\n",
              "      <td>9600</td>\n",
              "      <td>4.1</td>\n",
              "      <td>yes</td>\n",
              "      <td>yes</td>\n",
              "      <td>yes</td>\n",
              "      <td>good</td>\n",
              "      <td>yes</td>\n",
              "      <td>no</td>\n",
              "      <td>0</td>\n",
              "    </tr>\n",
              "    <tr>\n",
              "      <th>28</th>\n",
              "      <td>28</td>\n",
              "      <td>75.0</td>\n",
              "      <td>70.0</td>\n",
              "      <td>NaN</td>\n",
              "      <td>1.0</td>\n",
              "      <td>3.0</td>\n",
              "      <td>NaN</td>\n",
              "      <td>NaN</td>\n",
              "      <td>notpresent</td>\n",
              "      <td>notpresent</td>\n",
              "      <td>...</td>\n",
              "      <td>NaN</td>\n",
              "      <td>NaN</td>\n",
              "      <td>NaN</td>\n",
              "      <td>no</td>\n",
              "      <td>yes</td>\n",
              "      <td>no</td>\n",
              "      <td>good</td>\n",
              "      <td>no</td>\n",
              "      <td>no</td>\n",
              "      <td>0</td>\n",
              "    </tr>\n",
              "    <tr>\n",
              "      <th>29</th>\n",
              "      <td>29</td>\n",
              "      <td>68.0</td>\n",
              "      <td>70.0</td>\n",
              "      <td>1.005</td>\n",
              "      <td>1.0</td>\n",
              "      <td>0.0</td>\n",
              "      <td>abnormal</td>\n",
              "      <td>abnormal</td>\n",
              "      <td>present</td>\n",
              "      <td>notpresent</td>\n",
              "      <td>...</td>\n",
              "      <td>38</td>\n",
              "      <td>NaN</td>\n",
              "      <td>NaN</td>\n",
              "      <td>no</td>\n",
              "      <td>no</td>\n",
              "      <td>yes</td>\n",
              "      <td>good</td>\n",
              "      <td>no</td>\n",
              "      <td>no</td>\n",
              "      <td>0</td>\n",
              "    </tr>\n",
              "  </tbody>\n",
              "</table>\n",
              "<p>30 rows × 26 columns</p>\n",
              "</div>"
            ],
            "text/plain": [
              "    id   age     bp     sg   al   su       rbc        pc         pcc  \\\n",
              "0    0  48.0   80.0  1.020  1.0  0.0       NaN    normal  notpresent   \n",
              "1    1   7.0   50.0  1.020  4.0  0.0       NaN    normal  notpresent   \n",
              "2    2  62.0   80.0  1.010  2.0  3.0    normal    normal  notpresent   \n",
              "3    3  48.0   70.0  1.005  4.0  0.0    normal  abnormal     present   \n",
              "4    4  51.0   80.0  1.010  2.0  0.0    normal    normal  notpresent   \n",
              "5    5  60.0   90.0  1.015  3.0  0.0       NaN       NaN  notpresent   \n",
              "6    6  68.0   70.0  1.010  0.0  0.0       NaN    normal  notpresent   \n",
              "7    7  24.0    NaN  1.015  2.0  4.0    normal  abnormal  notpresent   \n",
              "8    8  52.0  100.0  1.015  3.0  0.0    normal  abnormal     present   \n",
              "9    9  53.0   90.0  1.020  2.0  0.0  abnormal  abnormal     present   \n",
              "10  10  50.0   60.0  1.010  2.0  4.0       NaN  abnormal     present   \n",
              "11  11  63.0   70.0  1.010  3.0  0.0  abnormal  abnormal     present   \n",
              "12  12  68.0   70.0  1.015  3.0  1.0       NaN    normal     present   \n",
              "13  13  68.0   70.0    NaN  NaN  NaN       NaN       NaN  notpresent   \n",
              "14  14  68.0   80.0  1.010  3.0  2.0    normal  abnormal     present   \n",
              "15  15  40.0   80.0  1.015  3.0  0.0       NaN    normal  notpresent   \n",
              "16  16  47.0   70.0  1.015  2.0  0.0       NaN    normal  notpresent   \n",
              "17  17  47.0   80.0    NaN  NaN  NaN       NaN       NaN  notpresent   \n",
              "18  18  60.0  100.0  1.025  0.0  3.0       NaN    normal  notpresent   \n",
              "19  19  62.0   60.0  1.015  1.0  0.0       NaN  abnormal     present   \n",
              "20  20  61.0   80.0  1.015  2.0  0.0  abnormal  abnormal  notpresent   \n",
              "21  21  60.0   90.0    NaN  NaN  NaN       NaN       NaN  notpresent   \n",
              "22  22  48.0   80.0  1.025  4.0  0.0    normal  abnormal  notpresent   \n",
              "23  23  21.0   70.0  1.010  0.0  0.0       NaN    normal  notpresent   \n",
              "24  24  42.0  100.0  1.015  4.0  0.0    normal  abnormal  notpresent   \n",
              "25  25  61.0   60.0  1.025  0.0  0.0       NaN    normal  notpresent   \n",
              "26  26  75.0   80.0  1.015  0.0  0.0       NaN    normal  notpresent   \n",
              "27  27  69.0   70.0  1.010  3.0  4.0    normal  abnormal  notpresent   \n",
              "28  28  75.0   70.0    NaN  1.0  3.0       NaN       NaN  notpresent   \n",
              "29  29  68.0   70.0  1.005  1.0  0.0  abnormal  abnormal     present   \n",
              "\n",
              "            ba  ...  pcv     wc   rc  htn   dm  cad appet   pe  ane  \\\n",
              "0   notpresent  ...   44   7800  5.2  yes  yes   no  good   no   no   \n",
              "1   notpresent  ...   38   6000  NaN   no   no   no  good   no   no   \n",
              "2   notpresent  ...   31   7500  NaN   no  yes   no  poor   no  yes   \n",
              "3   notpresent  ...   32   6700  3.9  yes   no   no  poor  yes  yes   \n",
              "4   notpresent  ...   35   7300  4.6   no   no   no  good   no   no   \n",
              "5   notpresent  ...   39   7800  4.4  yes  yes   no  good  yes   no   \n",
              "6   notpresent  ...   36    NaN  NaN   no   no   no  good   no   no   \n",
              "7   notpresent  ...   44   6900    5   no  yes   no  good  yes   no   \n",
              "8   notpresent  ...   33   9600  4.0  yes  yes   no  good   no  yes   \n",
              "9   notpresent  ...   29  12100  3.7  yes  yes   no  poor   no  yes   \n",
              "10  notpresent  ...   28    NaN  NaN  yes  yes   no  good   no  yes   \n",
              "11  notpresent  ...   32   4500  3.8  yes  yes   no  poor  yes   no   \n",
              "12  notpresent  ...   28  12200  3.4  yes  yes  yes  poor  yes   no   \n",
              "13  notpresent  ...  NaN    NaN  NaN  yes  yes  yes  poor  yes   no   \n",
              "14     present  ...   16  11000  2.6  yes  yes  yes  poor  yes   no   \n",
              "15  notpresent  ...   24   3800  2.8  yes   no   no  good   no  yes   \n",
              "16  notpresent  ...  NaN    NaN  NaN   no   no   no  good   no   no   \n",
              "17  notpresent  ...  NaN    NaN  NaN  yes   no   no  poor   no   no   \n",
              "18  notpresent  ...   37  11400  4.3  yes  yes  yes  good   no   no   \n",
              "19  notpresent  ...   30   5300  3.7  yes   no  yes  good   no   no   \n",
              "20  notpresent  ...   24   9200  3.2  yes  yes  yes  poor  yes  yes   \n",
              "21  notpresent  ...   32   6200  3.6  yes  yes  yes  good   no   no   \n",
              "22  notpresent  ...   32   6900  3.4  yes   no   no  good   no  yes   \n",
              "23  notpresent  ...  NaN    NaN  NaN   no   no   no  poor   no  yes   \n",
              "24     present  ...   39   8300  4.6  yes   no   no  poor   no   no   \n",
              "25  notpresent  ...   29   8400  3.7  yes  yes   no  good   no  yes   \n",
              "26  notpresent  ...   35  10300    4  yes  yes   no  poor   no   no   \n",
              "27  notpresent  ...   37   9600  4.1  yes  yes  yes  good  yes   no   \n",
              "28  notpresent  ...  NaN    NaN  NaN   no  yes   no  good   no   no   \n",
              "29  notpresent  ...   38    NaN  NaN   no   no  yes  good   no   no   \n",
              "\n",
              "   classification  \n",
              "0               0  \n",
              "1               0  \n",
              "2               0  \n",
              "3               0  \n",
              "4               0  \n",
              "5               0  \n",
              "6               0  \n",
              "7               0  \n",
              "8               0  \n",
              "9               0  \n",
              "10              0  \n",
              "11              0  \n",
              "12              0  \n",
              "13              0  \n",
              "14              0  \n",
              "15              0  \n",
              "16              0  \n",
              "17              0  \n",
              "18              0  \n",
              "19              0  \n",
              "20              0  \n",
              "21              0  \n",
              "22              0  \n",
              "23              0  \n",
              "24              0  \n",
              "25              0  \n",
              "26              0  \n",
              "27              0  \n",
              "28              0  \n",
              "29              0  \n",
              "\n",
              "[30 rows x 26 columns]"
            ]
          },
          "execution_count": 6,
          "metadata": {},
          "output_type": "execute_result"
        }
      ],
      "source": [
        "df.head(30)"
      ]
    },
    {
      "cell_type": "code",
      "execution_count": null,
      "metadata": {
        "colab": {
          "base_uri": "https://localhost:8080/"
        },
        "id": "bUaQNrNQ51u-",
        "outputId": "3012a9c0-2f0a-49cf-e364-4f807976eb35"
      },
      "outputs": [],
      "source": [
        "df.shape"
      ]
    },
    {
      "cell_type": "code",
      "execution_count": null,
      "metadata": {
        "colab": {
          "base_uri": "https://localhost:8080/"
        },
        "id": "Avc_U6HH598u",
        "outputId": "30c8a144-d443-4116-f54e-7a6aa02ebee1"
      },
      "outputs": [],
      "source": [
        "df.dtypes\n"
      ]
    },
    {
      "cell_type": "code",
      "execution_count": null,
      "metadata": {
        "id": "O-GVmmbC7Nmv"
      },
      "outputs": [],
      "source": [
        "df['rbc']= label_encoder.fit_transform(df['rbc'])\n",
        "df['pc']= label_encoder.fit_transform(df['pc'])\n",
        "df['pcc']= label_encoder.fit_transform(df['pcc'])\n",
        "df['ba']= label_encoder.fit_transform(df['ba'])\n",
        "df['pcv']= label_encoder.fit_transform(df['pcv'])\n",
        "df['wc']= label_encoder.fit_transform(df['wc'])\n",
        "df['rc']= label_encoder.fit_transform(df['rc'])\n",
        "df['htn']= label_encoder.fit_transform(df['htn'])\n",
        "df['dm']= label_encoder.fit_transform(df['dm'])\n",
        "df['cad']= label_encoder.fit_transform(df['cad'])\n",
        "df['appet']= label_encoder.fit_transform(df['appet'])\n",
        "df['pe']= label_encoder.fit_transform(df['pe'])\n",
        "df['ane']= label_encoder.fit_transform(df['ane'])\n"
      ]
    },
    {
      "cell_type": "code",
      "execution_count": null,
      "metadata": {
        "colab": {
          "base_uri": "https://localhost:8080/"
        },
        "id": "zYRavMo6tSeS",
        "outputId": "d10db0c3-84a0-4bae-b23c-eb0001edbc34"
      },
      "outputs": [],
      "source": [
        "print(df.isnull().sum())"
      ]
    },
    {
      "cell_type": "code",
      "execution_count": null,
      "metadata": {
        "colab": {
          "base_uri": "https://localhost:8080/"
        },
        "id": "vihQy4HP8Sd3",
        "outputId": "bd769c81-7e30-45d4-e041-70031f9185a8"
      },
      "outputs": [],
      "source": [
        "df.dtypes\n"
      ]
    },
    {
      "cell_type": "code",
      "execution_count": null,
      "metadata": {
        "colab": {
          "base_uri": "https://localhost:8080/"
        },
        "id": "hFtltIzy8m6m",
        "outputId": "24a77214-d85e-4e72-8b20-aefd3d10c01d"
      },
      "outputs": [],
      "source": [
        "df['classification'].unique()"
      ]
    },
    {
      "cell_type": "code",
      "execution_count": null,
      "metadata": {
        "id": "Eu2pE1hIsoUp"
      },
      "outputs": [],
      "source": [
        "df['bp'] = df['bp'].replace(np.NaN, df['bp'].mean())\n",
        "df['sg'] = df['sg'].replace(np.NaN, df['sg'].mean())\n",
        "df['al'] = df['al'].replace(np.NaN, df['al'].mean())\n",
        "df['su'] = df['su'].replace(np.NaN, df['su'].mean())\n",
        "df['bgr'] = df['bgr'].replace(np.NaN, df['bgr'].mean())\n",
        "df['bu'] = df['bu'].replace(np.NaN, df['bu'].mean())\n",
        "df['sc'] = df['sc'].replace(np.NaN, df['sc'].mean())\n",
        "df['sod'] = df['sod'].replace(np.NaN, df['sod'].mean())\n",
        "df['pot'] = df['pot'].replace(np.NaN, df['pot'].mean())\n",
        "df['hemo'] = df['hemo'].replace(np.NaN, df['hemo'].mean())"
      ]
    },
    {
      "cell_type": "code",
      "execution_count": null,
      "metadata": {
        "colab": {
          "base_uri": "https://localhost:8080/",
          "height": 488
        },
        "id": "1KvW_AZDuq4n",
        "outputId": "65f3c791-33f8-45fd-b39c-5201bb0121b1"
      },
      "outputs": [],
      "source": [
        "df"
      ]
    },
    {
      "cell_type": "code",
      "execution_count": null,
      "metadata": {
        "colab": {
          "base_uri": "https://localhost:8080/",
          "height": 424
        },
        "id": "g6RUDyrZ-WB3",
        "outputId": "75d8600b-6122-4248-9fe3-0a25f3e3e83e"
      },
      "outputs": [],
      "source": [
        "\n",
        "y = df['classification']\n",
        "X = df.drop(['classification'], axis = 1) \n",
        "\n",
        "from sklearn.preprocessing import MinMaxScaler\n",
        "scaler = MinMaxScaler()\n",
        "\n",
        "df_norm = pd.DataFrame(scaler.fit_transform(X), columns=X.columns)\n",
        "df_norm"
      ]
    },
    {
      "cell_type": "code",
      "execution_count": null,
      "metadata": {
        "id": "gY2RnCpH-sgm"
      },
      "outputs": [],
      "source": [
        "df_norm['classification'] = y"
      ]
    },
    {
      "cell_type": "code",
      "execution_count": null,
      "metadata": {
        "colab": {
          "base_uri": "https://localhost:8080/",
          "height": 488
        },
        "id": "hxlUV9KY-u0O",
        "outputId": "2a521dcc-2ec0-49dd-e220-ed281ed3fa7a"
      },
      "outputs": [],
      "source": [
        "df_norm"
      ]
    },
    {
      "cell_type": "code",
      "execution_count": null,
      "metadata": {
        "colab": {
          "base_uri": "https://localhost:8080/",
          "height": 488
        },
        "id": "K-J9GMDK-7eG",
        "outputId": "a40f1294-a7fb-4954-90b1-5448cf357522"
      },
      "outputs": [],
      "source": [
        "y = df['classification']\n",
        "X = df.drop(['classification'], axis = 1) \n",
        "\n",
        "from sklearn.preprocessing import StandardScaler\n",
        "std_scaler = StandardScaler()\n",
        "\n",
        "\n",
        "df_std = pd.DataFrame(std_scaler.fit_transform(X), columns=X.columns)\n",
        "df_std"
      ]
    },
    {
      "cell_type": "code",
      "execution_count": null,
      "metadata": {
        "id": "l4NP82FmvcgS"
      },
      "outputs": [],
      "source": [
        "df_std['classification'] = y"
      ]
    },
    {
      "cell_type": "code",
      "execution_count": null,
      "metadata": {
        "colab": {
          "base_uri": "https://localhost:8080/",
          "height": 488
        },
        "id": "O7HKljZbvhRf",
        "outputId": "5df7e94c-26d0-4851-9bbf-2da8866fe617"
      },
      "outputs": [],
      "source": [
        "df_std"
      ]
    },
    {
      "cell_type": "markdown",
      "metadata": {
        "id": "zuaHim-BxlEO"
      },
      "source": [
        "# **Feature Selection**"
      ]
    },
    {
      "cell_type": "markdown",
      "metadata": {
        "id": "BEdSHPJ6xo9O"
      },
      "source": [
        "# **Filter method**\n",
        "Selects features based on statistical measure.\n",
        "\n",
        "Uses correlation to check if the features are positively\n",
        "or negatively correlated to the output labels and drop\n",
        "features accordingly.\n"
      ]
    },
    {
      "cell_type": "code",
      "execution_count": null,
      "metadata": {
        "colab": {
          "base_uri": "https://localhost:8080/",
          "height": 488
        },
        "id": "yDpsQkB61eAR",
        "outputId": "9a53278e-80d9-41ab-f57a-8d96203d7408"
      },
      "outputs": [],
      "source": [
        "df_std"
      ]
    },
    {
      "cell_type": "markdown",
      "metadata": {
        "id": "rEKJgGXT1NEk"
      },
      "source": [
        "# **Variance threshold**"
      ]
    },
    {
      "cell_type": "code",
      "execution_count": null,
      "metadata": {
        "colab": {
          "base_uri": "https://localhost:8080/"
        },
        "id": "V9DVzTHY1lFC",
        "outputId": "e6187de2-47fb-4b05-9144-56f1c059982e"
      },
      "outputs": [],
      "source": [
        "#Remove features with low -variance \n",
        "x = df_norm.drop('classification', axis=1)    \n",
        "y = df_norm['classification']\n",
        "from sklearn.feature_selection import VarianceThreshold\n",
        "\n",
        "var = VarianceThreshold(threshold=0.09)\n",
        "var = var.fit(x)\n",
        "cols = var.get_support(indices=True)\n",
        "cols\n",
        "features = x.columns[cols]\n",
        "features"
      ]
    },
    {
      "cell_type": "code",
      "execution_count": null,
      "metadata": {
        "colab": {
          "base_uri": "https://localhost:8080/",
          "height": 424
        },
        "id": "rG6MRreL2eij",
        "outputId": "9536c35c-7041-4774-b30b-ae38c9e2400c"
      },
      "outputs": [],
      "source": [
        "import pandas as pd\n",
        "\n",
        "\n",
        "data = df_norm.drop(df.columns.difference(['rbc',  'wc']) , axis=1)\n",
        "data"
      ]
    },
    {
      "cell_type": "markdown",
      "metadata": {
        "id": "JHeL8FsCyLSl"
      },
      "source": [
        "# **Wrapper Method**\n",
        "❑ Splits the data into several subsets.\n",
        "\n",
        "❑ Feed the subsets to algorithm and observe the accuracy.\n",
        "\n",
        "❑ Finally outputs the subset with higher accuracy."
      ]
    },
    {
      "cell_type": "markdown",
      "metadata": {
        "id": "Z5UaXHEZydbH"
      },
      "source": [
        "# **Embedded Method**\n",
        "\n",
        "Combines the qualities of both the Filter\n",
        "and Wrapper method to create the best\n",
        "subset."
      ]
    },
    {
      "cell_type": "markdown",
      "metadata": {
        "id": "iw7zutIJm-Cl"
      },
      "source": [
        "# **Pearson correlation **"
      ]
    },
    {
      "cell_type": "code",
      "execution_count": null,
      "metadata": {
        "id": "tqV0E5MUx8mN"
      },
      "outputs": [],
      "source": [
        "import matplotlib.pyplot as plt\n",
        "%matplotlib inline"
      ]
    },
    {
      "cell_type": "code",
      "execution_count": null,
      "metadata": {
        "id": "OYOOi9X4nJvV"
      },
      "outputs": [],
      "source": [
        "X = df_std.drop(\"classification\",axis=1)   #Feature Matrix\n",
        "y = df_std[\"classification\"] "
      ]
    },
    {
      "cell_type": "code",
      "execution_count": null,
      "metadata": {
        "colab": {
          "base_uri": "https://localhost:8080/",
          "height": 926
        },
        "id": "aneyMlOnnbzs",
        "outputId": "c0599b62-5424-40da-aa95-86e11e962f7b"
      },
      "outputs": [],
      "source": [
        "X.corr()"
      ]
    },
    {
      "cell_type": "code",
      "execution_count": null,
      "metadata": {
        "colab": {
          "base_uri": "https://localhost:8080/",
          "height": 762
        },
        "id": "irQhIgVNnjQz",
        "outputId": "72395170-1f1e-4727-94b3-7e3bff38a983"
      },
      "outputs": [],
      "source": [
        "import seaborn as sns\n",
        "#Using Pearson Correlation\n",
        "plt.figure(figsize=(12,10))\n",
        "cor = X.corr()\n",
        "sns.heatmap(cor, annot=True, cmap=plt.cm.CMRmap_r)\n",
        "plt.show()"
      ]
    },
    {
      "cell_type": "code",
      "execution_count": null,
      "metadata": {
        "id": "AncZxkrwnsq1"
      },
      "outputs": [],
      "source": [
        "# with the following function we can select highly correlated features\n",
        "# it will remove the first feature that is correlated with anything other feature\n",
        "\n",
        "def correlation(dataset, threshold):\n",
        "    col_corr = set()  # Set of all the names of correlated columns\n",
        "    corr_matrix = dataset.corr()\n",
        "    for i in range(len(corr_matrix.columns)):\n",
        "        for j in range(i):\n",
        "            if (corr_matrix.iloc[i, j]) > threshold: # we are interested in absolute coeff value\n",
        "                colname = corr_matrix.columns[i]  # getting the name of column\n",
        "                col_corr.add(colname)\n",
        "    return col_corr"
      ]
    },
    {
      "cell_type": "code",
      "execution_count": null,
      "metadata": {
        "colab": {
          "base_uri": "https://localhost:8080/"
        },
        "id": "HtqoG7POn0KY",
        "outputId": "ac278650-3414-46c4-dfd7-32088ce84dc1"
      },
      "outputs": [],
      "source": [
        "corr_features = correlation(X, 0.5)\n",
        "len(set(corr_features))"
      ]
    },
    {
      "cell_type": "code",
      "execution_count": null,
      "metadata": {
        "colab": {
          "base_uri": "https://localhost:8080/"
        },
        "id": "FkmAPdNfn7og",
        "outputId": "36bb635d-6267-4ad2-ddcf-e8117cee9ca8"
      },
      "outputs": [],
      "source": [
        "corr_features"
      ]
    },
    {
      "cell_type": "code",
      "execution_count": null,
      "metadata": {
        "colab": {
          "base_uri": "https://localhost:8080/",
          "height": 424
        },
        "id": "-iFFeeg3n9hn",
        "outputId": "e4bfa5c1-8e39-4318-9192-461c0874ce32"
      },
      "outputs": [],
      "source": [
        "X.drop(corr_features,axis=1)\n"
      ]
    },
    {
      "cell_type": "markdown",
      "metadata": {
        "id": "Fhf24nojfXls"
      },
      "source": [
        "# **Chi- square**"
      ]
    },
    {
      "cell_type": "code",
      "execution_count": null,
      "metadata": {
        "id": "SdandNExfW7w"
      },
      "outputs": [],
      "source": [
        "from sklearn.feature_selection import chi2\n",
        "X = df_norm.drop(columns=[']classification','id', axis=1)\n",
        "y = df_norm['classification']"
      ]
    },
    {
      "cell_type": "code",
      "execution_count": null,
      "metadata": {
        "id": "czPLWGQFgFRZ"
      },
      "outputs": [],
      "source": [
        "chi_scores = chi2(X, y)"
      ]
    },
    {
      "cell_type": "code",
      "execution_count": null,
      "metadata": {
        "colab": {
          "base_uri": "https://localhost:8080/"
        },
        "id": "GzMmTBN9gNr8",
        "outputId": "d8dd459c-b07a-4285-b241-5b5870222681"
      },
      "outputs": [],
      "source": [
        "chi_scores"
      ]
    },
    {
      "cell_type": "code",
      "execution_count": null,
      "metadata": {
        "colab": {
          "base_uri": "https://localhost:8080/",
          "height": 473
        },
        "id": "M24okKxsgQVj",
        "outputId": "769f54d2-a508-4aec-c097-e50bd6f8a1f1"
      },
      "outputs": [],
      "source": [
        "# higher the chi value, higher the importance\n",
        "chi_values = pd.Series(chi_scores[0], index=X.columns)\n",
        "chi_values.sort_values(ascending=False, inplace=True)\n",
        "chi_values.plot.bar()"
      ]
    },
    {
      "cell_type": "code",
      "execution_count": null,
      "metadata": {
        "colab": {
          "base_uri": "https://localhost:8080/",
          "height": 473
        },
        "id": "vNFPZxvXgZXZ",
        "outputId": "a555f43e-1e52-43b8-877b-93ce221bc4af"
      },
      "outputs": [],
      "source": [
        "# if p-value > 0.05, lower the importance\n",
        "p_values = pd.Series(chi_scores[1], index=X.columns)\n",
        "p_values.sort_values(ascending=False, inplace=True)\n",
        "p_values.plot.bar()"
      ]
    },
    {
      "cell_type": "markdown",
      "metadata": {
        "id": "jAN1nW1Jgp7T"
      },
      "source": [
        "# **Recursive feature Elimination**"
      ]
    },
    {
      "cell_type": "code",
      "execution_count": null,
      "metadata": {
        "id": "p-vKqp8fggTk"
      },
      "outputs": [],
      "source": [
        "from sklearn.feature_selection import RFE\n",
        "from sklearn.tree import DecisionTreeClassifier"
      ]
    },
    {
      "cell_type": "code",
      "execution_count": null,
      "metadata": {
        "id": "VKiaPJH8gtsL"
      },
      "outputs": [],
      "source": [
        "X = df_norm.drop(columns=['classification','id'], axis=1)\n",
        "y = df_norm['classification']"
      ]
    },
    {
      "cell_type": "code",
      "execution_count": null,
      "metadata": {
        "colab": {
          "base_uri": "https://localhost:8080/"
        },
        "id": "5ZF4d5X_g5JN",
        "outputId": "2a225c66-ea6e-41f3-a750-78fff927c4b8"
      },
      "outputs": [],
      "source": [
        "rfe = RFE(estimator=DecisionTreeClassifier())\n",
        "selector=rfe.fit(X, y)\n",
        "cols=selector.get_support(indices= True)\n",
        "cols"
      ]
    },
    {
      "cell_type": "code",
      "execution_count": null,
      "metadata": {
        "colab": {
          "base_uri": "https://localhost:8080/"
        },
        "id": "MiKO_7hnhDuX",
        "outputId": "26ea33cb-b364-4703-f7a2-f985050e7394"
      },
      "outputs": [],
      "source": [
        "features= X.columns[cols]\n",
        "features"
      ]
    },
    {
      "cell_type": "code",
      "execution_count": null,
      "metadata": {
        "colab": {
          "base_uri": "https://localhost:8080/"
        },
        "id": "i-K0m5ptrHjo",
        "outputId": "052e0e7a-0c19-492a-99ec-b6d9658b71b0"
      },
      "outputs": [],
      "source": [
        "c_columns = [column for column in X.columns\n",
        "             if column not in X.columns[selector.get_support(indices=True)]]\n",
        "print(len(c_columns))"
      ]
    },
    {
      "cell_type": "code",
      "execution_count": null,
      "metadata": {
        "id": "o5wlWvKSrk-w"
      },
      "outputs": [],
      "source": [
        "X= X.drop(labels=c_columns, axis=1)"
      ]
    }
  ],
  "metadata": {
    "colab": {
      "provenance": []
    },
    "kernelspec": {
      "display_name": "Python 3",
      "name": "python3"
    },
    "language_info": {
      "codemirror_mode": {
        "name": "ipython",
        "version": 3
      },
      "file_extension": ".py",
      "mimetype": "text/x-python",
      "name": "python",
      "nbconvert_exporter": "python",
      "pygments_lexer": "ipython3",
      "version": "3.10.9"
    }
  },
  "nbformat": 4,
  "nbformat_minor": 0
}
