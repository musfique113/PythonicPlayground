{
 "cells": [
  {
   "cell_type": "markdown",
   "id": "c0eb7e3f-4757-4658-b74d-39c7068de35e",
   "metadata": {},
   "source": [
    "# CLP\n",
    "- ## 193002031\n",
    "- ## Parvez Saiful"
   ]
  },
  {
   "cell_type": "code",
   "execution_count": null,
   "id": "4fd54735-da35-4b14-9458-cafb94d8327b",
   "metadata": {
    "tags": []
   },
   "outputs": [],
   "source": [
    "import pandas as pd"
   ]
  },
  {
   "cell_type": "code",
   "execution_count": null,
   "id": "f27c330b-79d5-4320-86aa-51cfa7c92720",
   "metadata": {},
   "outputs": [],
   "source": [
    "df = pd.read_csv(\"titanic.csv\")\n",
    "print(df.head(8))"
   ]
  },
  {
   "cell_type": "code",
   "execution_count": 2,
   "id": "11d4e7ea-45f7-49b8-8d86-b532c581890d",
   "metadata": {
    "tags": []
   },
   "outputs": [
    {
     "name": "stdout",
     "output_type": "stream",
     "text": [
      "   Survived  Pclass     Sex   Age  SibSp  Parch\n",
      "0         0       3    male  22.0      1      0\n",
      "1         1       1  female  38.0      1      0\n",
      "2         1       3  female  26.0      0      0\n",
      "3         1       1  female  35.0      1      0\n",
      "4         0       3    male  35.0      0      0\n",
      "<class 'pandas.core.frame.DataFrame'>\n",
      "RangeIndex: 891 entries, 0 to 890\n",
      "Data columns (total 6 columns):\n",
      " #   Column    Non-Null Count  Dtype  \n",
      "---  ------    --------------  -----  \n",
      " 0   Survived  891 non-null    int64  \n",
      " 1   Pclass    891 non-null    int64  \n",
      " 2   Sex       891 non-null    object \n",
      " 3   Age       714 non-null    float64\n",
      " 4   SibSp     891 non-null    int64  \n",
      " 5   Parch     891 non-null    int64  \n",
      "dtypes: float64(1), int64(4), object(1)\n",
      "memory usage: 41.9+ KB\n",
      "None\n"
     ]
    }
   ],
   "source": [
    "df = df.drop([\"Name\", \"Ticket\", \"PassengerId\", \"Fare\", \"Cabin\", \"Embarked\"], axis=1)\n",
    "print(df.head())\n",
    "print(df.info())"
   ]
  },
  {
   "cell_type": "code",
   "execution_count": 3,
   "id": "4f0b6a38-4ca4-4a9b-b738-7f91b769e2b7",
   "metadata": {
    "tags": []
   },
   "outputs": [
    {
     "name": "stdout",
     "output_type": "stream",
     "text": [
      "<class 'pandas.core.frame.DataFrame'>\n",
      "RangeIndex: 891 entries, 0 to 890\n",
      "Data columns (total 6 columns):\n",
      " #   Column    Non-Null Count  Dtype  \n",
      "---  ------    --------------  -----  \n",
      " 0   Survived  891 non-null    int64  \n",
      " 1   Pclass    891 non-null    int64  \n",
      " 2   Sex       891 non-null    object \n",
      " 3   Age       891 non-null    float64\n",
      " 4   SibSp     891 non-null    int64  \n",
      " 5   Parch     891 non-null    int64  \n",
      "dtypes: float64(1), int64(4), object(1)\n",
      "memory usage: 41.9+ KB\n",
      "None\n"
     ]
    }
   ],
   "source": [
    "df_new = df[['Survived', 'Pclass', 'Sex', 'Age', 'SibSp', 'Parch']]\n",
    "age_mode = df_new['Age'].mode()[0]\n",
    "df_new['Age'].fillna(age_mode, inplace=True)\n",
    "print(df_new.info())"
   ]
  },
  {
   "cell_type": "code",
   "execution_count": 4,
   "id": "b47c7e97-5627-467a-8418-6b314b66ca47",
   "metadata": {
    "tags": []
   },
   "outputs": [
    {
     "name": "stdout",
     "output_type": "stream",
     "text": [
      "   Survived  Pclass     Sex   Age  SibSp  Parch Categorical_Age\n",
      "0         0       3    male  22.0      1      0           Adult\n",
      "1         1       1  female  38.0      1      0           Adult\n",
      "2         1       3  female  26.0      0      0           Adult\n",
      "3         1       1  female  35.0      1      0           Adult\n",
      "4         0       3    male  35.0      0      0           Adult\n",
      "5         0       3    male   NaN      0      0             NaN\n",
      "6         0       1    male  54.0      0      0           Adult\n",
      "7         0       3    male   2.0      3      1    Baby/Toddler\n",
      "8         1       3  female  27.0      0      2           Adult\n",
      "9         1       2  female  14.0      1      0           Child\n"
     ]
    }
   ],
   "source": [
    "df['Categorical_Age'] = pd.cut(df['Age'], bins=[0, 4, 18, 60, 100], labels=['Baby/Toddler', 'Child', 'Adult', 'Senior'])\n",
    "print(df.head(10))\n"
   ]
  }
 ],
 "metadata": {
  "kernelspec": {
   "display_name": "Python 3 (ipykernel)",
   "language": "python",
   "name": "python3"
  },
  "language_info": {
   "codemirror_mode": {
    "name": "ipython",
    "version": 3
   },
   "file_extension": ".py",
   "mimetype": "text/x-python",
   "name": "python",
   "nbconvert_exporter": "python",
   "pygments_lexer": "ipython3",
   "version": "3.10.9"
  }
 },
 "nbformat": 4,
 "nbformat_minor": 5
}
